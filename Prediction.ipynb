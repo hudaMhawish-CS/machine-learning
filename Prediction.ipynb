{
 "cells": [
  {
   "cell_type": "markdown",
   "metadata": {},
   "source": [
    "\n",
    "# Machine Learning Project\n",
    "-----------------------------\n",
    " Done By :\n",
    " - Huda Mhawesh"
   ]
  },
  {
   "cell_type": "code",
   "execution_count": 88,
   "metadata": {},
   "outputs": [],
   "source": [
    "import warnings\n",
    "warnings.simplefilter(\"ignore\")\n",
    "\n",
    "import pandas as pd\n",
    "import numpy as np\n",
    "import seaborn as sns\n",
    "import matplotlib.pyplot as plt\n",
    "import math"
   ]
  },
  {
   "cell_type": "code",
   "execution_count": 89,
   "metadata": {},
   "outputs": [
    {
     "name": "stdout",
     "output_type": "stream",
     "text": [
      "We Have 101766 records and 50 features\n"
     ]
    },
    {
     "data": {
      "text/html": [
       "<div>\n",
       "<style scoped>\n",
       "    .dataframe tbody tr th:only-of-type {\n",
       "        vertical-align: middle;\n",
       "    }\n",
       "\n",
       "    .dataframe tbody tr th {\n",
       "        vertical-align: top;\n",
       "    }\n",
       "\n",
       "    .dataframe thead th {\n",
       "        text-align: right;\n",
       "    }\n",
       "</style>\n",
       "<table border=\"1\" class=\"dataframe\">\n",
       "  <thead>\n",
       "    <tr style=\"text-align: right;\">\n",
       "      <th></th>\n",
       "      <th>encounter_id</th>\n",
       "      <th>patient_nbr</th>\n",
       "      <th>race</th>\n",
       "      <th>gender</th>\n",
       "      <th>age</th>\n",
       "      <th>weight</th>\n",
       "      <th>admission_type_id</th>\n",
       "      <th>discharge_disposition_id</th>\n",
       "      <th>admission_source_id</th>\n",
       "      <th>time_in_hospital</th>\n",
       "      <th>payer_code</th>\n",
       "      <th>medical_specialty</th>\n",
       "      <th>num_lab_procedures</th>\n",
       "      <th>num_procedures</th>\n",
       "      <th>num_medications</th>\n",
       "      <th>number_outpatient</th>\n",
       "      <th>number_emergency</th>\n",
       "      <th>number_inpatient</th>\n",
       "      <th>diag_1</th>\n",
       "      <th>diag_2</th>\n",
       "    </tr>\n",
       "  </thead>\n",
       "  <tbody>\n",
       "    <tr>\n",
       "      <th>0</th>\n",
       "      <td>2278392</td>\n",
       "      <td>8222157</td>\n",
       "      <td>Caucasian</td>\n",
       "      <td>Female</td>\n",
       "      <td>[0-10)</td>\n",
       "      <td>?</td>\n",
       "      <td>6</td>\n",
       "      <td>25</td>\n",
       "      <td>1</td>\n",
       "      <td>1</td>\n",
       "      <td>?</td>\n",
       "      <td>Pediatrics-Endocrinology</td>\n",
       "      <td>41</td>\n",
       "      <td>0</td>\n",
       "      <td>1</td>\n",
       "      <td>0</td>\n",
       "      <td>0</td>\n",
       "      <td>0</td>\n",
       "      <td>250.83</td>\n",
       "      <td>?</td>\n",
       "    </tr>\n",
       "    <tr>\n",
       "      <th>1</th>\n",
       "      <td>149190</td>\n",
       "      <td>55629189</td>\n",
       "      <td>Caucasian</td>\n",
       "      <td>Female</td>\n",
       "      <td>[10-20)</td>\n",
       "      <td>?</td>\n",
       "      <td>1</td>\n",
       "      <td>1</td>\n",
       "      <td>7</td>\n",
       "      <td>3</td>\n",
       "      <td>?</td>\n",
       "      <td>?</td>\n",
       "      <td>59</td>\n",
       "      <td>0</td>\n",
       "      <td>18</td>\n",
       "      <td>0</td>\n",
       "      <td>0</td>\n",
       "      <td>0</td>\n",
       "      <td>276</td>\n",
       "      <td>250.01</td>\n",
       "    </tr>\n",
       "    <tr>\n",
       "      <th>2</th>\n",
       "      <td>64410</td>\n",
       "      <td>86047875</td>\n",
       "      <td>AfricanAmerican</td>\n",
       "      <td>Female</td>\n",
       "      <td>[20-30)</td>\n",
       "      <td>?</td>\n",
       "      <td>1</td>\n",
       "      <td>1</td>\n",
       "      <td>7</td>\n",
       "      <td>2</td>\n",
       "      <td>?</td>\n",
       "      <td>?</td>\n",
       "      <td>11</td>\n",
       "      <td>5</td>\n",
       "      <td>13</td>\n",
       "      <td>2</td>\n",
       "      <td>0</td>\n",
       "      <td>1</td>\n",
       "      <td>648</td>\n",
       "      <td>250</td>\n",
       "    </tr>\n",
       "    <tr>\n",
       "      <th>3</th>\n",
       "      <td>500364</td>\n",
       "      <td>82442376</td>\n",
       "      <td>Caucasian</td>\n",
       "      <td>Male</td>\n",
       "      <td>[30-40)</td>\n",
       "      <td>?</td>\n",
       "      <td>1</td>\n",
       "      <td>1</td>\n",
       "      <td>7</td>\n",
       "      <td>2</td>\n",
       "      <td>?</td>\n",
       "      <td>?</td>\n",
       "      <td>44</td>\n",
       "      <td>1</td>\n",
       "      <td>16</td>\n",
       "      <td>0</td>\n",
       "      <td>0</td>\n",
       "      <td>0</td>\n",
       "      <td>8</td>\n",
       "      <td>250.43</td>\n",
       "    </tr>\n",
       "    <tr>\n",
       "      <th>4</th>\n",
       "      <td>16680</td>\n",
       "      <td>42519267</td>\n",
       "      <td>Caucasian</td>\n",
       "      <td>Male</td>\n",
       "      <td>[40-50)</td>\n",
       "      <td>?</td>\n",
       "      <td>1</td>\n",
       "      <td>1</td>\n",
       "      <td>7</td>\n",
       "      <td>1</td>\n",
       "      <td>?</td>\n",
       "      <td>?</td>\n",
       "      <td>51</td>\n",
       "      <td>0</td>\n",
       "      <td>8</td>\n",
       "      <td>0</td>\n",
       "      <td>0</td>\n",
       "      <td>0</td>\n",
       "      <td>197</td>\n",
       "      <td>157</td>\n",
       "    </tr>\n",
       "  </tbody>\n",
       "</table>\n",
       "</div>"
      ],
      "text/plain": [
       "   encounter_id  patient_nbr             race  gender      age weight  \\\n",
       "0       2278392      8222157        Caucasian  Female   [0-10)      ?   \n",
       "1        149190     55629189        Caucasian  Female  [10-20)      ?   \n",
       "2         64410     86047875  AfricanAmerican  Female  [20-30)      ?   \n",
       "3        500364     82442376        Caucasian    Male  [30-40)      ?   \n",
       "4         16680     42519267        Caucasian    Male  [40-50)      ?   \n",
       "\n",
       "   admission_type_id  discharge_disposition_id  admission_source_id  \\\n",
       "0                  6                        25                    1   \n",
       "1                  1                         1                    7   \n",
       "2                  1                         1                    7   \n",
       "3                  1                         1                    7   \n",
       "4                  1                         1                    7   \n",
       "\n",
       "   time_in_hospital payer_code         medical_specialty  num_lab_procedures  \\\n",
       "0                 1          ?  Pediatrics-Endocrinology                  41   \n",
       "1                 3          ?                         ?                  59   \n",
       "2                 2          ?                         ?                  11   \n",
       "3                 2          ?                         ?                  44   \n",
       "4                 1          ?                         ?                  51   \n",
       "\n",
       "   num_procedures  num_medications  number_outpatient  number_emergency  \\\n",
       "0               0                1                  0                 0   \n",
       "1               0               18                  0                 0   \n",
       "2               5               13                  2                 0   \n",
       "3               1               16                  0                 0   \n",
       "4               0                8                  0                 0   \n",
       "\n",
       "   number_inpatient  diag_1  diag_2  \n",
       "0                 0  250.83       ?  \n",
       "1                 0     276  250.01  \n",
       "2                 1     648     250  \n",
       "3                 0       8  250.43  \n",
       "4                 0     197     157  "
      ]
     },
     "execution_count": 89,
     "metadata": {},
     "output_type": "execute_result"
    }
   ],
   "source": [
    "data = pd.read_csv(\"dataset_diabetes/diabetic_data.csv\")\n",
    "#print(data.race.count())\n",
    "print(\"We Have \"+str(data.shape[0]) + \" records and \" + str(data.shape[1]) + \" features\" )\n",
    "data.iloc[:5, 0:20]"
   ]
  },
  {
   "cell_type": "code",
   "execution_count": 90,
   "metadata": {},
   "outputs": [
    {
     "data": {
      "text/html": [
       "<div>\n",
       "<style scoped>\n",
       "    .dataframe tbody tr th:only-of-type {\n",
       "        vertical-align: middle;\n",
       "    }\n",
       "\n",
       "    .dataframe tbody tr th {\n",
       "        vertical-align: top;\n",
       "    }\n",
       "\n",
       "    .dataframe thead th {\n",
       "        text-align: right;\n",
       "    }\n",
       "</style>\n",
       "<table border=\"1\" class=\"dataframe\">\n",
       "  <thead>\n",
       "    <tr style=\"text-align: right;\">\n",
       "      <th></th>\n",
       "      <th>diag_3</th>\n",
       "      <th>number_diagnoses</th>\n",
       "      <th>max_glu_serum</th>\n",
       "      <th>A1Cresult</th>\n",
       "      <th>metformin</th>\n",
       "      <th>repaglinide</th>\n",
       "      <th>nateglinide</th>\n",
       "      <th>chlorpropamide</th>\n",
       "      <th>glimepiride</th>\n",
       "      <th>acetohexamide</th>\n",
       "      <th>glipizide</th>\n",
       "      <th>glyburide</th>\n",
       "      <th>tolbutamide</th>\n",
       "      <th>pioglitazone</th>\n",
       "      <th>rosiglitazone</th>\n",
       "      <th>acarbose</th>\n",
       "      <th>miglitol</th>\n",
       "      <th>troglitazone</th>\n",
       "      <th>tolazamide</th>\n",
       "      <th>examide</th>\n",
       "    </tr>\n",
       "  </thead>\n",
       "  <tbody>\n",
       "    <tr>\n",
       "      <th>0</th>\n",
       "      <td>?</td>\n",
       "      <td>1</td>\n",
       "      <td>None</td>\n",
       "      <td>None</td>\n",
       "      <td>No</td>\n",
       "      <td>No</td>\n",
       "      <td>No</td>\n",
       "      <td>No</td>\n",
       "      <td>No</td>\n",
       "      <td>No</td>\n",
       "      <td>No</td>\n",
       "      <td>No</td>\n",
       "      <td>No</td>\n",
       "      <td>No</td>\n",
       "      <td>No</td>\n",
       "      <td>No</td>\n",
       "      <td>No</td>\n",
       "      <td>No</td>\n",
       "      <td>No</td>\n",
       "      <td>No</td>\n",
       "    </tr>\n",
       "    <tr>\n",
       "      <th>1</th>\n",
       "      <td>255</td>\n",
       "      <td>9</td>\n",
       "      <td>None</td>\n",
       "      <td>None</td>\n",
       "      <td>No</td>\n",
       "      <td>No</td>\n",
       "      <td>No</td>\n",
       "      <td>No</td>\n",
       "      <td>No</td>\n",
       "      <td>No</td>\n",
       "      <td>No</td>\n",
       "      <td>No</td>\n",
       "      <td>No</td>\n",
       "      <td>No</td>\n",
       "      <td>No</td>\n",
       "      <td>No</td>\n",
       "      <td>No</td>\n",
       "      <td>No</td>\n",
       "      <td>No</td>\n",
       "      <td>No</td>\n",
       "    </tr>\n",
       "    <tr>\n",
       "      <th>2</th>\n",
       "      <td>V27</td>\n",
       "      <td>6</td>\n",
       "      <td>None</td>\n",
       "      <td>None</td>\n",
       "      <td>No</td>\n",
       "      <td>No</td>\n",
       "      <td>No</td>\n",
       "      <td>No</td>\n",
       "      <td>No</td>\n",
       "      <td>No</td>\n",
       "      <td>Steady</td>\n",
       "      <td>No</td>\n",
       "      <td>No</td>\n",
       "      <td>No</td>\n",
       "      <td>No</td>\n",
       "      <td>No</td>\n",
       "      <td>No</td>\n",
       "      <td>No</td>\n",
       "      <td>No</td>\n",
       "      <td>No</td>\n",
       "    </tr>\n",
       "    <tr>\n",
       "      <th>3</th>\n",
       "      <td>403</td>\n",
       "      <td>7</td>\n",
       "      <td>None</td>\n",
       "      <td>None</td>\n",
       "      <td>No</td>\n",
       "      <td>No</td>\n",
       "      <td>No</td>\n",
       "      <td>No</td>\n",
       "      <td>No</td>\n",
       "      <td>No</td>\n",
       "      <td>No</td>\n",
       "      <td>No</td>\n",
       "      <td>No</td>\n",
       "      <td>No</td>\n",
       "      <td>No</td>\n",
       "      <td>No</td>\n",
       "      <td>No</td>\n",
       "      <td>No</td>\n",
       "      <td>No</td>\n",
       "      <td>No</td>\n",
       "    </tr>\n",
       "    <tr>\n",
       "      <th>4</th>\n",
       "      <td>250</td>\n",
       "      <td>5</td>\n",
       "      <td>None</td>\n",
       "      <td>None</td>\n",
       "      <td>No</td>\n",
       "      <td>No</td>\n",
       "      <td>No</td>\n",
       "      <td>No</td>\n",
       "      <td>No</td>\n",
       "      <td>No</td>\n",
       "      <td>Steady</td>\n",
       "      <td>No</td>\n",
       "      <td>No</td>\n",
       "      <td>No</td>\n",
       "      <td>No</td>\n",
       "      <td>No</td>\n",
       "      <td>No</td>\n",
       "      <td>No</td>\n",
       "      <td>No</td>\n",
       "      <td>No</td>\n",
       "    </tr>\n",
       "  </tbody>\n",
       "</table>\n",
       "</div>"
      ],
      "text/plain": [
       "  diag_3  number_diagnoses max_glu_serum A1Cresult metformin repaglinide  \\\n",
       "0      ?                 1          None      None        No          No   \n",
       "1    255                 9          None      None        No          No   \n",
       "2    V27                 6          None      None        No          No   \n",
       "3    403                 7          None      None        No          No   \n",
       "4    250                 5          None      None        No          No   \n",
       "\n",
       "  nateglinide chlorpropamide glimepiride acetohexamide glipizide glyburide  \\\n",
       "0          No             No          No            No        No        No   \n",
       "1          No             No          No            No        No        No   \n",
       "2          No             No          No            No    Steady        No   \n",
       "3          No             No          No            No        No        No   \n",
       "4          No             No          No            No    Steady        No   \n",
       "\n",
       "  tolbutamide pioglitazone rosiglitazone acarbose miglitol troglitazone  \\\n",
       "0          No           No            No       No       No           No   \n",
       "1          No           No            No       No       No           No   \n",
       "2          No           No            No       No       No           No   \n",
       "3          No           No            No       No       No           No   \n",
       "4          No           No            No       No       No           No   \n",
       "\n",
       "  tolazamide examide  \n",
       "0         No      No  \n",
       "1         No      No  \n",
       "2         No      No  \n",
       "3         No      No  \n",
       "4         No      No  "
      ]
     },
     "execution_count": 90,
     "metadata": {},
     "output_type": "execute_result"
    }
   ],
   "source": [
    "data.iloc[:5, 20:40]"
   ]
  },
  {
   "cell_type": "code",
   "execution_count": 91,
   "metadata": {},
   "outputs": [
    {
     "data": {
      "text/html": [
       "<div>\n",
       "<style scoped>\n",
       "    .dataframe tbody tr th:only-of-type {\n",
       "        vertical-align: middle;\n",
       "    }\n",
       "\n",
       "    .dataframe tbody tr th {\n",
       "        vertical-align: top;\n",
       "    }\n",
       "\n",
       "    .dataframe thead th {\n",
       "        text-align: right;\n",
       "    }\n",
       "</style>\n",
       "<table border=\"1\" class=\"dataframe\">\n",
       "  <thead>\n",
       "    <tr style=\"text-align: right;\">\n",
       "      <th></th>\n",
       "      <th>citoglipton</th>\n",
       "      <th>insulin</th>\n",
       "      <th>glyburide-metformin</th>\n",
       "      <th>glipizide-metformin</th>\n",
       "      <th>glimepiride-pioglitazone</th>\n",
       "      <th>metformin-rosiglitazone</th>\n",
       "      <th>metformin-pioglitazone</th>\n",
       "      <th>change</th>\n",
       "      <th>diabetesMed</th>\n",
       "      <th>readmitted</th>\n",
       "    </tr>\n",
       "  </thead>\n",
       "  <tbody>\n",
       "    <tr>\n",
       "      <th>0</th>\n",
       "      <td>No</td>\n",
       "      <td>No</td>\n",
       "      <td>No</td>\n",
       "      <td>No</td>\n",
       "      <td>No</td>\n",
       "      <td>No</td>\n",
       "      <td>No</td>\n",
       "      <td>No</td>\n",
       "      <td>No</td>\n",
       "      <td>NO</td>\n",
       "    </tr>\n",
       "    <tr>\n",
       "      <th>1</th>\n",
       "      <td>No</td>\n",
       "      <td>Up</td>\n",
       "      <td>No</td>\n",
       "      <td>No</td>\n",
       "      <td>No</td>\n",
       "      <td>No</td>\n",
       "      <td>No</td>\n",
       "      <td>Ch</td>\n",
       "      <td>Yes</td>\n",
       "      <td>&gt;30</td>\n",
       "    </tr>\n",
       "    <tr>\n",
       "      <th>2</th>\n",
       "      <td>No</td>\n",
       "      <td>No</td>\n",
       "      <td>No</td>\n",
       "      <td>No</td>\n",
       "      <td>No</td>\n",
       "      <td>No</td>\n",
       "      <td>No</td>\n",
       "      <td>No</td>\n",
       "      <td>Yes</td>\n",
       "      <td>NO</td>\n",
       "    </tr>\n",
       "    <tr>\n",
       "      <th>3</th>\n",
       "      <td>No</td>\n",
       "      <td>Up</td>\n",
       "      <td>No</td>\n",
       "      <td>No</td>\n",
       "      <td>No</td>\n",
       "      <td>No</td>\n",
       "      <td>No</td>\n",
       "      <td>Ch</td>\n",
       "      <td>Yes</td>\n",
       "      <td>NO</td>\n",
       "    </tr>\n",
       "    <tr>\n",
       "      <th>4</th>\n",
       "      <td>No</td>\n",
       "      <td>Steady</td>\n",
       "      <td>No</td>\n",
       "      <td>No</td>\n",
       "      <td>No</td>\n",
       "      <td>No</td>\n",
       "      <td>No</td>\n",
       "      <td>Ch</td>\n",
       "      <td>Yes</td>\n",
       "      <td>NO</td>\n",
       "    </tr>\n",
       "  </tbody>\n",
       "</table>\n",
       "</div>"
      ],
      "text/plain": [
       "  citoglipton insulin glyburide-metformin glipizide-metformin  \\\n",
       "0          No      No                  No                  No   \n",
       "1          No      Up                  No                  No   \n",
       "2          No      No                  No                  No   \n",
       "3          No      Up                  No                  No   \n",
       "4          No  Steady                  No                  No   \n",
       "\n",
       "  glimepiride-pioglitazone metformin-rosiglitazone metformin-pioglitazone  \\\n",
       "0                       No                      No                     No   \n",
       "1                       No                      No                     No   \n",
       "2                       No                      No                     No   \n",
       "3                       No                      No                     No   \n",
       "4                       No                      No                     No   \n",
       "\n",
       "  change diabetesMed readmitted  \n",
       "0     No          No         NO  \n",
       "1     Ch         Yes        >30  \n",
       "2     No         Yes         NO  \n",
       "3     Ch         Yes         NO  \n",
       "4     Ch         Yes         NO  "
      ]
     },
     "execution_count": 91,
     "metadata": {},
     "output_type": "execute_result"
    }
   ],
   "source": [
    "data.iloc[:5, 40:]"
   ]
  },
  {
   "cell_type": "markdown",
   "metadata": {},
   "source": [
    "# Data Exploration and Analysis"
   ]
  },
  {
   "cell_type": "code",
   "execution_count": 92,
   "metadata": {},
   "outputs": [
    {
     "data": {
      "image/png": "[encoded data removed]",
      "text/plain": [
       "<Figure size 1440x3600 with 50 Axes>"
      ]
     },
     "metadata": {
      "needs_background": "light"
     },
     "output_type": "display_data"
    }
   ],
   "source": [
    "fig = plt.figure(figsize=(20,50))\n",
    "cols = 5\n",
    "rows = math.ceil(float(data.shape[1]) / cols)\n",
    "for i, column in enumerate(data.columns):\n",
    "    ax = fig.add_subplot(rows, cols, i + 1)\n",
    "    ax.set_title(column)\n",
    "    if data.dtypes[column] == np.object:\n",
    "        data[column].value_counts().plot(kind=\"bar\", axes=ax)\n",
    "    else:\n",
    "        data[column].hist(axes=ax)\n",
    "        plt.xticks(rotation=\"vertical\")\n",
    "plt.subplots_adjust(hspace=0.7, wspace=0.2)"
   ]
  },
  {
   "cell_type": "code",
   "execution_count": 93,
   "metadata": {},
   "outputs": [
    {
     "name": "stdout",
     "output_type": "stream",
     "text": [
      "<class 'pandas.core.frame.DataFrame'>\n",
      "RangeIndex: 101766 entries, 0 to 101765\n",
      "Data columns (total 50 columns):\n",
      "encounter_id                101766 non-null int64\n",
      "patient_nbr                 101766 non-null int64\n",
      "race                        101766 non-null object\n",
      "gender                      101766 non-null object\n",
      "age                         101766 non-null object\n",
      "weight                      101766 non-null object\n",
      "admission_type_id           101766 non-null int64\n",
      "discharge_disposition_id    101766 non-null int64\n",
      "admission_source_id         101766 non-null int64\n",
      "time_in_hospital            101766 non-null int64\n",
      "payer_code                  101766 non-null object\n",
      "medical_specialty           101766 non-null object\n",
      "num_lab_procedures          101766 non-null int64\n",
      "num_procedures              101766 non-null int64\n",
      "num_medications             101766 non-null int64\n",
      "number_outpatient           101766 non-null int64\n",
      "number_emergency            101766 non-null int64\n",
      "number_inpatient            101766 non-null int64\n",
      "diag_1                      101766 non-null object\n",
      "diag_2                      101766 non-null object\n",
      "diag_3                      101766 non-null object\n",
      "number_diagnoses            101766 non-null int64\n",
      "max_glu_serum               101766 non-null object\n",
      "A1Cresult                   101766 non-null object\n",
      "metformin                   101766 non-null object\n",
      "repaglinide                 101766 non-null object\n",
      "nateglinide                 101766 non-null object\n",
      "chlorpropamide              101766 non-null object\n",
      "glimepiride                 101766 non-null object\n",
      "acetohexamide               101766 non-null object\n",
      "glipizide                   101766 non-null object\n",
      "glyburide                   101766 non-null object\n",
      "tolbutamide                 101766 non-null object\n",
      "pioglitazone                101766 non-null object\n",
      "rosiglitazone               101766 non-null object\n",
      "acarbose                    101766 non-null object\n",
      "miglitol                    101766 non-null object\n",
      "troglitazone                101766 non-null object\n",
      "tolazamide                  101766 non-null object\n",
      "examide                     101766 non-null object\n",
      "citoglipton                 101766 non-null object\n",
      "insulin                     101766 non-null object\n",
      "glyburide-metformin         101766 non-null object\n",
      "glipizide-metformin         101766 non-null object\n",
      "glimepiride-pioglitazone    101766 non-null object\n",
      "metformin-rosiglitazone     101766 non-null object\n",
      "metformin-pioglitazone      101766 non-null object\n",
      "change                      101766 non-null object\n",
      "diabetesMed                 101766 non-null object\n",
      "readmitted                  101766 non-null object\n",
      "dtypes: int64(13), object(37)\n",
      "memory usage: 38.8+ MB\n"
     ]
    }
   ],
   "source": [
    "data.info()"
   ]
  },
  {
   "cell_type": "code",
   "execution_count": 94,
   "metadata": {},
   "outputs": [
    {
     "data": {
      "text/html": [
       "<div>\n",
       "<style scoped>\n",
       "    .dataframe tbody tr th:only-of-type {\n",
       "        vertical-align: middle;\n",
       "    }\n",
       "\n",
       "    .dataframe tbody tr th {\n",
       "        vertical-align: top;\n",
       "    }\n",
       "\n",
       "    .dataframe thead th {\n",
       "        text-align: right;\n",
       "    }\n",
       "</style>\n",
       "<table border=\"1\" class=\"dataframe\">\n",
       "  <thead>\n",
       "    <tr style=\"text-align: right;\">\n",
       "      <th></th>\n",
       "      <th>encounter_id</th>\n",
       "      <th>patient_nbr</th>\n",
       "      <th>race</th>\n",
       "      <th>gender</th>\n",
       "      <th>age</th>\n",
       "      <th>weight</th>\n",
       "      <th>admission_type_id</th>\n",
       "      <th>discharge_disposition_id</th>\n",
       "      <th>admission_source_id</th>\n",
       "      <th>time_in_hospital</th>\n",
       "      <th>...</th>\n",
       "      <th>citoglipton</th>\n",
       "      <th>insulin</th>\n",
       "      <th>glyburide-metformin</th>\n",
       "      <th>glipizide-metformin</th>\n",
       "      <th>glimepiride-pioglitazone</th>\n",
       "      <th>metformin-rosiglitazone</th>\n",
       "      <th>metformin-pioglitazone</th>\n",
       "      <th>change</th>\n",
       "      <th>diabetesMed</th>\n",
       "      <th>readmitted</th>\n",
       "    </tr>\n",
       "  </thead>\n",
       "  <tbody>\n",
       "    <tr>\n",
       "      <th>0</th>\n",
       "      <td>2278392</td>\n",
       "      <td>8222157</td>\n",
       "      <td>Caucasian</td>\n",
       "      <td>Female</td>\n",
       "      <td>[0-10)</td>\n",
       "      <td>NaN</td>\n",
       "      <td>6</td>\n",
       "      <td>25</td>\n",
       "      <td>1</td>\n",
       "      <td>1</td>\n",
       "      <td>...</td>\n",
       "      <td>No</td>\n",
       "      <td>No</td>\n",
       "      <td>No</td>\n",
       "      <td>No</td>\n",
       "      <td>No</td>\n",
       "      <td>No</td>\n",
       "      <td>No</td>\n",
       "      <td>No</td>\n",
       "      <td>No</td>\n",
       "      <td>NO</td>\n",
       "    </tr>\n",
       "    <tr>\n",
       "      <th>1</th>\n",
       "      <td>149190</td>\n",
       "      <td>55629189</td>\n",
       "      <td>Caucasian</td>\n",
       "      <td>Female</td>\n",
       "      <td>[10-20)</td>\n",
       "      <td>NaN</td>\n",
       "      <td>1</td>\n",
       "      <td>1</td>\n",
       "      <td>7</td>\n",
       "      <td>3</td>\n",
       "      <td>...</td>\n",
       "      <td>No</td>\n",
       "      <td>Up</td>\n",
       "      <td>No</td>\n",
       "      <td>No</td>\n",
       "      <td>No</td>\n",
       "      <td>No</td>\n",
       "      <td>No</td>\n",
       "      <td>Ch</td>\n",
       "      <td>Yes</td>\n",
       "      <td>&gt;30</td>\n",
       "    </tr>\n",
       "    <tr>\n",
       "      <th>2</th>\n",
       "      <td>64410</td>\n",
       "      <td>86047875</td>\n",
       "      <td>AfricanAmerican</td>\n",
       "      <td>Female</td>\n",
       "      <td>[20-30)</td>\n",
       "      <td>NaN</td>\n",
       "      <td>1</td>\n",
       "      <td>1</td>\n",
       "      <td>7</td>\n",
       "      <td>2</td>\n",
       "      <td>...</td>\n",
       "      <td>No</td>\n",
       "      <td>No</td>\n",
       "      <td>No</td>\n",
       "      <td>No</td>\n",
       "      <td>No</td>\n",
       "      <td>No</td>\n",
       "      <td>No</td>\n",
       "      <td>No</td>\n",
       "      <td>Yes</td>\n",
       "      <td>NO</td>\n",
       "    </tr>\n",
       "  </tbody>\n",
       "</table>\n",
       "<p>3 rows × 50 columns</p>\n",
       "</div>"
      ],
      "text/plain": [
       "   encounter_id  patient_nbr             race  gender      age weight  \\\n",
       "0       2278392      8222157        Caucasian  Female   [0-10)    NaN   \n",
       "1        149190     55629189        Caucasian  Female  [10-20)    NaN   \n",
       "2         64410     86047875  AfricanAmerican  Female  [20-30)    NaN   \n",
       "\n",
       "   admission_type_id  discharge_disposition_id  admission_source_id  \\\n",
       "0                  6                        25                    1   \n",
       "1                  1                         1                    7   \n",
       "2                  1                         1                    7   \n",
       "\n",
       "   time_in_hospital    ...     citoglipton insulin  glyburide-metformin  \\\n",
       "0                 1    ...              No      No                   No   \n",
       "1                 3    ...              No      Up                   No   \n",
       "2                 2    ...              No      No                   No   \n",
       "\n",
       "   glipizide-metformin  glimepiride-pioglitazone  metformin-rosiglitazone  \\\n",
       "0                   No                        No                       No   \n",
       "1                   No                        No                       No   \n",
       "2                   No                        No                       No   \n",
       "\n",
       "   metformin-pioglitazone  change diabetesMed readmitted  \n",
       "0                      No      No          No         NO  \n",
       "1                      No      Ch         Yes        >30  \n",
       "2                      No      No         Yes         NO  \n",
       "\n",
       "[3 rows x 50 columns]"
      ]
     },
     "execution_count": 94,
     "metadata": {},
     "output_type": "execute_result"
    }
   ],
   "source": [
    "data = data.replace ('?' , np.nan)\n",
    "data.head(3)"
   ]
  },
  {
   "cell_type": "code",
   "execution_count": 95,
   "metadata": {},
   "outputs": [
    {
     "data": {
      "text/html": [
       "<div>\n",
       "<style scoped>\n",
       "    .dataframe tbody tr th:only-of-type {\n",
       "        vertical-align: middle;\n",
       "    }\n",
       "\n",
       "    .dataframe tbody tr th {\n",
       "        vertical-align: top;\n",
       "    }\n",
       "\n",
       "    .dataframe thead th {\n",
       "        text-align: right;\n",
       "    }\n",
       "</style>\n",
       "<table border=\"1\" class=\"dataframe\">\n",
       "  <thead>\n",
       "    <tr style=\"text-align: right;\">\n",
       "      <th></th>\n",
       "      <th>0</th>\n",
       "    </tr>\n",
       "  </thead>\n",
       "  <tbody>\n",
       "    <tr>\n",
       "      <th>race</th>\n",
       "      <td>2273</td>\n",
       "    </tr>\n",
       "    <tr>\n",
       "      <th>weight</th>\n",
       "      <td>98569</td>\n",
       "    </tr>\n",
       "    <tr>\n",
       "      <th>payer_code</th>\n",
       "      <td>40256</td>\n",
       "    </tr>\n",
       "    <tr>\n",
       "      <th>medical_specialty</th>\n",
       "      <td>49949</td>\n",
       "    </tr>\n",
       "    <tr>\n",
       "      <th>diag_1</th>\n",
       "      <td>21</td>\n",
       "    </tr>\n",
       "    <tr>\n",
       "      <th>diag_2</th>\n",
       "      <td>358</td>\n",
       "    </tr>\n",
       "    <tr>\n",
       "      <th>diag_3</th>\n",
       "      <td>1423</td>\n",
       "    </tr>\n",
       "  </tbody>\n",
       "</table>\n",
       "</div>"
      ],
      "text/plain": [
       "                       0\n",
       "race                2273\n",
       "weight             98569\n",
       "payer_code         40256\n",
       "medical_specialty  49949\n",
       "diag_1                21\n",
       "diag_2               358\n",
       "diag_3              1423"
      ]
     },
     "execution_count": 95,
     "metadata": {},
     "output_type": "execute_result"
    }
   ],
   "source": [
    "null_value = data.isnull().sum()\n",
    "null_value = null_value.to_frame()\n",
    "null_value = null_value[null_value.values > 0 ]\n",
    "null_value"
   ]
  },
  {
   "cell_type": "code",
   "execution_count": 96,
   "metadata": {},
   "outputs": [
    {
     "data": {
      "text/html": [
       "<div>\n",
       "<style scoped>\n",
       "    .dataframe tbody tr th:only-of-type {\n",
       "        vertical-align: middle;\n",
       "    }\n",
       "\n",
       "    .dataframe tbody tr th {\n",
       "        vertical-align: top;\n",
       "    }\n",
       "\n",
       "    .dataframe thead th {\n",
       "        text-align: right;\n",
       "    }\n",
       "</style>\n",
       "<table border=\"1\" class=\"dataframe\">\n",
       "  <thead>\n",
       "    <tr style=\"text-align: right;\">\n",
       "      <th></th>\n",
       "      <th>encounter_id</th>\n",
       "      <th>patient_nbr</th>\n",
       "      <th>admission_type_id</th>\n",
       "      <th>discharge_disposition_id</th>\n",
       "      <th>admission_source_id</th>\n",
       "      <th>time_in_hospital</th>\n",
       "      <th>num_lab_procedures</th>\n",
       "      <th>num_procedures</th>\n",
       "      <th>num_medications</th>\n",
       "      <th>number_outpatient</th>\n",
       "      <th>number_emergency</th>\n",
       "      <th>number_inpatient</th>\n",
       "      <th>number_diagnoses</th>\n",
       "    </tr>\n",
       "  </thead>\n",
       "  <tbody>\n",
       "    <tr>\n",
       "      <th>count</th>\n",
       "      <td>1.017660e+05</td>\n",
       "      <td>1.017660e+05</td>\n",
       "      <td>101766.000000</td>\n",
       "      <td>101766.000000</td>\n",
       "      <td>101766.000000</td>\n",
       "      <td>101766.000000</td>\n",
       "      <td>101766.000000</td>\n",
       "      <td>101766.000000</td>\n",
       "      <td>101766.000000</td>\n",
       "      <td>101766.000000</td>\n",
       "      <td>101766.000000</td>\n",
       "      <td>101766.000000</td>\n",
       "      <td>101766.000000</td>\n",
       "    </tr>\n",
       "    <tr>\n",
       "      <th>mean</th>\n",
       "      <td>1.652016e+08</td>\n",
       "      <td>5.433040e+07</td>\n",
       "      <td>2.024006</td>\n",
       "      <td>3.715642</td>\n",
       "      <td>5.754437</td>\n",
       "      <td>4.395987</td>\n",
       "      <td>43.095641</td>\n",
       "      <td>1.339730</td>\n",
       "      <td>16.021844</td>\n",
       "      <td>0.369357</td>\n",
       "      <td>0.197836</td>\n",
       "      <td>0.635566</td>\n",
       "      <td>7.422607</td>\n",
       "    </tr>\n",
       "    <tr>\n",
       "      <th>std</th>\n",
       "      <td>1.026403e+08</td>\n",
       "      <td>3.869636e+07</td>\n",
       "      <td>1.445403</td>\n",
       "      <td>5.280166</td>\n",
       "      <td>4.064081</td>\n",
       "      <td>2.985108</td>\n",
       "      <td>19.674362</td>\n",
       "      <td>1.705807</td>\n",
       "      <td>8.127566</td>\n",
       "      <td>1.267265</td>\n",
       "      <td>0.930472</td>\n",
       "      <td>1.262863</td>\n",
       "      <td>1.933600</td>\n",
       "    </tr>\n",
       "    <tr>\n",
       "      <th>min</th>\n",
       "      <td>1.252200e+04</td>\n",
       "      <td>1.350000e+02</td>\n",
       "      <td>1.000000</td>\n",
       "      <td>1.000000</td>\n",
       "      <td>1.000000</td>\n",
       "      <td>1.000000</td>\n",
       "      <td>1.000000</td>\n",
       "      <td>0.000000</td>\n",
       "      <td>1.000000</td>\n",
       "      <td>0.000000</td>\n",
       "      <td>0.000000</td>\n",
       "      <td>0.000000</td>\n",
       "      <td>1.000000</td>\n",
       "    </tr>\n",
       "    <tr>\n",
       "      <th>25%</th>\n",
       "      <td>8.496119e+07</td>\n",
       "      <td>2.341322e+07</td>\n",
       "      <td>1.000000</td>\n",
       "      <td>1.000000</td>\n",
       "      <td>1.000000</td>\n",
       "      <td>2.000000</td>\n",
       "      <td>31.000000</td>\n",
       "      <td>0.000000</td>\n",
       "      <td>10.000000</td>\n",
       "      <td>0.000000</td>\n",
       "      <td>0.000000</td>\n",
       "      <td>0.000000</td>\n",
       "      <td>6.000000</td>\n",
       "    </tr>\n",
       "    <tr>\n",
       "      <th>50%</th>\n",
       "      <td>1.523890e+08</td>\n",
       "      <td>4.550514e+07</td>\n",
       "      <td>1.000000</td>\n",
       "      <td>1.000000</td>\n",
       "      <td>7.000000</td>\n",
       "      <td>4.000000</td>\n",
       "      <td>44.000000</td>\n",
       "      <td>1.000000</td>\n",
       "      <td>15.000000</td>\n",
       "      <td>0.000000</td>\n",
       "      <td>0.000000</td>\n",
       "      <td>0.000000</td>\n",
       "      <td>8.000000</td>\n",
       "    </tr>\n",
       "    <tr>\n",
       "      <th>75%</th>\n",
       "      <td>2.302709e+08</td>\n",
       "      <td>8.754595e+07</td>\n",
       "      <td>3.000000</td>\n",
       "      <td>4.000000</td>\n",
       "      <td>7.000000</td>\n",
       "      <td>6.000000</td>\n",
       "      <td>57.000000</td>\n",
       "      <td>2.000000</td>\n",
       "      <td>20.000000</td>\n",
       "      <td>0.000000</td>\n",
       "      <td>0.000000</td>\n",
       "      <td>1.000000</td>\n",
       "      <td>9.000000</td>\n",
       "    </tr>\n",
       "    <tr>\n",
       "      <th>max</th>\n",
       "      <td>4.438672e+08</td>\n",
       "      <td>1.895026e+08</td>\n",
       "      <td>8.000000</td>\n",
       "      <td>28.000000</td>\n",
       "      <td>25.000000</td>\n",
       "      <td>14.000000</td>\n",
       "      <td>132.000000</td>\n",
       "      <td>6.000000</td>\n",
       "      <td>81.000000</td>\n",
       "      <td>42.000000</td>\n",
       "      <td>76.000000</td>\n",
       "      <td>21.000000</td>\n",
       "      <td>16.000000</td>\n",
       "    </tr>\n",
       "  </tbody>\n",
       "</table>\n",
       "</div>"
      ],
      "text/plain": [
       "       encounter_id   patient_nbr  admission_type_id  \\\n",
       "count  1.017660e+05  1.017660e+05      101766.000000   \n",
       "mean   1.652016e+08  5.433040e+07           2.024006   \n",
       "std    1.026403e+08  3.869636e+07           1.445403   \n",
       "min    1.252200e+04  1.350000e+02           1.000000   \n",
       "25%    8.496119e+07  2.341322e+07           1.000000   \n",
       "50%    1.523890e+08  4.550514e+07           1.000000   \n",
       "75%    2.302709e+08  8.754595e+07           3.000000   \n",
       "max    4.438672e+08  1.895026e+08           8.000000   \n",
       "\n",
       "       discharge_disposition_id  admission_source_id  time_in_hospital  \\\n",
       "count             101766.000000        101766.000000     101766.000000   \n",
       "mean                   3.715642             5.754437          4.395987   \n",
       "std                    5.280166             4.064081          2.985108   \n",
       "min                    1.000000             1.000000          1.000000   \n",
       "25%                    1.000000             1.000000          2.000000   \n",
       "50%                    1.000000             7.000000          4.000000   \n",
       "75%                    4.000000             7.000000          6.000000   \n",
       "max                   28.000000            25.000000         14.000000   \n",
       "\n",
       "       num_lab_procedures  num_procedures  num_medications  number_outpatient  \\\n",
       "count       101766.000000   101766.000000    101766.000000      101766.000000   \n",
       "mean            43.095641        1.339730        16.021844           0.369357   \n",
       "std             19.674362        1.705807         8.127566           1.267265   \n",
       "min              1.000000        0.000000         1.000000           0.000000   \n",
       "25%             31.000000        0.000000        10.000000           0.000000   \n",
       "50%             44.000000        1.000000        15.000000           0.000000   \n",
       "75%             57.000000        2.000000        20.000000           0.000000   \n",
       "max            132.000000        6.000000        81.000000          42.000000   \n",
       "\n",
       "       number_emergency  number_inpatient  number_diagnoses  \n",
       "count     101766.000000     101766.000000     101766.000000  \n",
       "mean           0.197836          0.635566          7.422607  \n",
       "std            0.930472          1.262863          1.933600  \n",
       "min            0.000000          0.000000          1.000000  \n",
       "25%            0.000000          0.000000          6.000000  \n",
       "50%            0.000000          0.000000          8.000000  \n",
       "75%            0.000000          1.000000          9.000000  \n",
       "max           76.000000         21.000000         16.000000  "
      ]
     },
     "execution_count": 96,
     "metadata": {},
     "output_type": "execute_result"
    }
   ],
   "source": [
    "data.describe()"
   ]
  },
  {
   "cell_type": "code",
   "execution_count": 97,
   "metadata": {},
   "outputs": [
    {
     "data": {
      "text/plain": [
       "readmitted  gender         \n",
       "<30         Female              6152\n",
       "            Male                5205\n",
       ">30         Female             19518\n",
       "            Male               16027\n",
       "NO          Female             29038\n",
       "            Male               25823\n",
       "            Unknown/Invalid        3\n",
       "Name: gender, dtype: int64"
      ]
     },
     "execution_count": 97,
     "metadata": {},
     "output_type": "execute_result"
    }
   ],
   "source": [
    "data.groupby(['readmitted','gender'])['gender'].count()\n"
   ]
  },
  {
   "cell_type": "code",
   "execution_count": 98,
   "metadata": {},
   "outputs": [
    {
     "data": {
      "text/plain": [
       "<matplotlib.axes._subplots.AxesSubplot at 0x27282ea7d30>"
      ]
     },
     "execution_count": 98,
     "metadata": {},
     "output_type": "execute_result"
    },
    {
     "data": {
      "image/png": "[encoded data removed]",
      "text/plain": [
       "<Figure size 432x288 with 1 Axes>"
      ]
     },
     "metadata": {
      "needs_background": "light"
     },
     "output_type": "display_data"
    }
   ],
   "source": [
    "sns.countplot(y='gender', hue='readmitted', data=data,)\n"
   ]
  },
  {
   "cell_type": "code",
   "execution_count": 99,
   "metadata": {},
   "outputs": [
    {
     "data": {
      "text/plain": [
       "age       readmitted\n",
       "[0-10)    <30               3\n",
       "          >30              26\n",
       "          NO              132\n",
       "[10-20)   <30              40\n",
       "          >30             224\n",
       "          NO              427\n",
       "[20-30)   <30             236\n",
       "          >30             510\n",
       "          NO              911\n",
       "[30-40)   <30             424\n",
       "          >30            1187\n",
       "          NO             2164\n",
       "[40-50)   <30            1027\n",
       "          >30            3278\n",
       "          NO             5380\n",
       "[50-60)   <30            1668\n",
       "          >30            5917\n",
       "          NO             9671\n",
       "[60-70)   <30            2502\n",
       "          >30            7897\n",
       "          NO            12084\n",
       "[70-80)   <30            3069\n",
       "          >30            9475\n",
       "          NO            13524\n",
       "[80-90)   <30            2078\n",
       "          >30            6223\n",
       "          NO             8896\n",
       "[90-100)  <30             310\n",
       "          >30             808\n",
       "          NO             1675\n",
       "Name: readmitted, dtype: int64"
      ]
     },
     "execution_count": 99,
     "metadata": {},
     "output_type": "execute_result"
    }
   ],
   "source": [
    "data.groupby(['age','readmitted'])['readmitted'].count()"
   ]
  },
  {
   "cell_type": "code",
   "execution_count": 100,
   "metadata": {},
   "outputs": [
    {
     "data": {
      "text/plain": [
       "<matplotlib.axes._subplots.AxesSubplot at 0x272ca252128>"
      ]
     },
     "execution_count": 100,
     "metadata": {},
     "output_type": "execute_result"
    },
    {
     "data": {
      "image/png": "[encoded data removed]",
      "text/plain": [
       "<Figure size 432x288 with 1 Axes>"
      ]
     },
     "metadata": {
      "needs_background": "light"
     },
     "output_type": "display_data"
    }
   ],
   "source": [
    "sns.countplot(y='age', hue='readmitted', data=data,)\n"
   ]
  },
  {
   "cell_type": "code",
   "execution_count": 101,
   "metadata": {},
   "outputs": [],
   "source": [
    "data['race'] = data['race'].fillna('unknown')\n",
    "data['payer_code'] = data['payer_code'].fillna('unknown')\n",
    "data['medical_specialty'] = data['medical_specialty'].fillna('unknown')\n"
   ]
  },
  {
   "cell_type": "markdown",
   "metadata": {},
   "source": [
    "# Data Preprocessing"
   ]
  },
  {
   "cell_type": "markdown",
   "metadata": {},
   "source": [
    "## Delete unnecessary features and records"
   ]
  },
  {
   "cell_type": "markdown",
   "metadata": {},
   "source": [
    "### useless features\n",
    "- Weight missing in over 98% records\n",
    "- Medical Specialty missing  in over 49% records\n",
    "- drugs named citoglipton and examide have records with the same value"
   ]
  },
  {
   "cell_type": "code",
   "execution_count": 102,
   "metadata": {},
   "outputs": [],
   "source": [
    "#data = data.drop(['weight','payer_code','medical_specialty'], axis = 1)\n",
    "data = data.drop(columns=['encounter_id', 'patient_nbr', 'weight' , 'medical_specialty'])"
   ]
  },
  {
   "cell_type": "code",
   "execution_count": 103,
   "metadata": {},
   "outputs": [
    {
     "name": "stdout",
     "output_type": "stream",
     "text": [
      "No    101766\n",
      "Name: citoglipton, dtype: int64\n",
      "No    101766\n",
      "Name: examide, dtype: int64\n"
     ]
    }
   ],
   "source": [
    "print (data.citoglipton.value_counts())\n",
    "print (data.examide.value_counts())\n",
    "data = data.drop(['citoglipton', 'examide'], axis = 1)"
   ]
  },
  {
   "cell_type": "code",
   "execution_count": 104,
   "metadata": {},
   "outputs": [
    {
     "name": "stdout",
     "output_type": "stream",
     "text": [
      "Number of features is 44\n"
     ]
    }
   ],
   "source": [
    "print(\"Number of features is \"+str(data.shape[1]))"
   ]
  },
  {
   "cell_type": "markdown",
   "metadata": {},
   "source": [
    "## useless Records\n",
    "- patients who died during this hospital admission, have zero probability of readmission. So we should remove those records (discharge_disposition = 11)"
   ]
  },
  {
   "cell_type": "code",
   "execution_count": 105,
   "metadata": {},
   "outputs": [
    {
     "name": "stdout",
     "output_type": "stream",
     "text": [
      " Num of records = 101766\n"
     ]
    },
    {
     "data": {
      "text/plain": [
       "1     60234\n",
       "3     13954\n",
       "6     12902\n",
       "18     3691\n",
       "2      2128\n",
       "22     1993\n",
       "11     1642\n",
       "5      1184\n",
       "25      989\n",
       "4       815\n",
       "7       623\n",
       "23      412\n",
       "13      399\n",
       "14      372\n",
       "28      139\n",
       "8       108\n",
       "15       63\n",
       "24       48\n",
       "9        21\n",
       "17       14\n",
       "16       11\n",
       "19        8\n",
       "10        6\n",
       "27        5\n",
       "12        3\n",
       "20        2\n",
       "Name: discharge_disposition_id, dtype: int64"
      ]
     },
     "execution_count": 105,
     "metadata": {},
     "output_type": "execute_result"
    }
   ],
   "source": [
    "print(\" Num of records = \" + str(data.shape[0]))\n",
    "data['discharge_disposition_id'].value_counts()"
   ]
  },
  {
   "cell_type": "code",
   "execution_count": 106,
   "metadata": {},
   "outputs": [
    {
     "name": "stdout",
     "output_type": "stream",
     "text": [
      "1642\n"
     ]
    }
   ],
   "source": [
    "drop_ind = data[data['discharge_disposition_id'] == 11].index\n",
    "new_ind = list(set(data.index) - set(drop_ind))\n",
    "print(len(drop_ind))\n",
    "data = data.iloc[new_ind]"
   ]
  },
  {
   "cell_type": "code",
   "execution_count": 107,
   "metadata": {},
   "outputs": [
    {
     "data": {
      "text/plain": [
       "(100124, 44)"
      ]
     },
     "execution_count": 107,
     "metadata": {},
     "output_type": "execute_result"
    }
   ],
   "source": [
    "data.shape"
   ]
  },
  {
   "cell_type": "markdown",
   "metadata": {},
   "source": [
    "-----------------------------------------\n",
    "### Feature Encoding\n",
    "----------------------------------------"
   ]
  },
  {
   "cell_type": "code",
   "execution_count": 108,
   "metadata": {},
   "outputs": [
    {
     "data": {
      "text/html": [
       "<div>\n",
       "<style scoped>\n",
       "    .dataframe tbody tr th:only-of-type {\n",
       "        vertical-align: middle;\n",
       "    }\n",
       "\n",
       "    .dataframe tbody tr th {\n",
       "        vertical-align: top;\n",
       "    }\n",
       "\n",
       "    .dataframe thead th {\n",
       "        text-align: right;\n",
       "    }\n",
       "</style>\n",
       "<table border=\"1\" class=\"dataframe\">\n",
       "  <thead>\n",
       "    <tr style=\"text-align: right;\">\n",
       "      <th></th>\n",
       "      <th>race</th>\n",
       "      <th>gender</th>\n",
       "      <th>age</th>\n",
       "      <th>admission_type_id</th>\n",
       "      <th>discharge_disposition_id</th>\n",
       "      <th>admission_source_id</th>\n",
       "      <th>time_in_hospital</th>\n",
       "      <th>payer_code</th>\n",
       "      <th>num_lab_procedures</th>\n",
       "      <th>num_procedures</th>\n",
       "      <th>...</th>\n",
       "      <th>tolazamide</th>\n",
       "      <th>insulin</th>\n",
       "      <th>glyburide-metformin</th>\n",
       "      <th>glipizide-metformin</th>\n",
       "      <th>glimepiride-pioglitazone</th>\n",
       "      <th>metformin-rosiglitazone</th>\n",
       "      <th>metformin-pioglitazone</th>\n",
       "      <th>change</th>\n",
       "      <th>diabetesMed</th>\n",
       "      <th>readmitted</th>\n",
       "    </tr>\n",
       "  </thead>\n",
       "  <tbody>\n",
       "    <tr>\n",
       "      <th>0</th>\n",
       "      <td>Caucasian</td>\n",
       "      <td>Female</td>\n",
       "      <td>[0-10)</td>\n",
       "      <td>6</td>\n",
       "      <td>25</td>\n",
       "      <td>1</td>\n",
       "      <td>1</td>\n",
       "      <td>unknown</td>\n",
       "      <td>41</td>\n",
       "      <td>0</td>\n",
       "      <td>...</td>\n",
       "      <td>No</td>\n",
       "      <td>No</td>\n",
       "      <td>No</td>\n",
       "      <td>No</td>\n",
       "      <td>No</td>\n",
       "      <td>No</td>\n",
       "      <td>No</td>\n",
       "      <td>No</td>\n",
       "      <td>No</td>\n",
       "      <td>0</td>\n",
       "    </tr>\n",
       "    <tr>\n",
       "      <th>1</th>\n",
       "      <td>Caucasian</td>\n",
       "      <td>Female</td>\n",
       "      <td>[10-20)</td>\n",
       "      <td>1</td>\n",
       "      <td>1</td>\n",
       "      <td>7</td>\n",
       "      <td>3</td>\n",
       "      <td>unknown</td>\n",
       "      <td>59</td>\n",
       "      <td>0</td>\n",
       "      <td>...</td>\n",
       "      <td>No</td>\n",
       "      <td>Up</td>\n",
       "      <td>No</td>\n",
       "      <td>No</td>\n",
       "      <td>No</td>\n",
       "      <td>No</td>\n",
       "      <td>No</td>\n",
       "      <td>Ch</td>\n",
       "      <td>Yes</td>\n",
       "      <td>0</td>\n",
       "    </tr>\n",
       "    <tr>\n",
       "      <th>2</th>\n",
       "      <td>AfricanAmerican</td>\n",
       "      <td>Female</td>\n",
       "      <td>[20-30)</td>\n",
       "      <td>1</td>\n",
       "      <td>1</td>\n",
       "      <td>7</td>\n",
       "      <td>2</td>\n",
       "      <td>unknown</td>\n",
       "      <td>11</td>\n",
       "      <td>5</td>\n",
       "      <td>...</td>\n",
       "      <td>No</td>\n",
       "      <td>No</td>\n",
       "      <td>No</td>\n",
       "      <td>No</td>\n",
       "      <td>No</td>\n",
       "      <td>No</td>\n",
       "      <td>No</td>\n",
       "      <td>No</td>\n",
       "      <td>Yes</td>\n",
       "      <td>0</td>\n",
       "    </tr>\n",
       "    <tr>\n",
       "      <th>3</th>\n",
       "      <td>Caucasian</td>\n",
       "      <td>Male</td>\n",
       "      <td>[30-40)</td>\n",
       "      <td>1</td>\n",
       "      <td>1</td>\n",
       "      <td>7</td>\n",
       "      <td>2</td>\n",
       "      <td>unknown</td>\n",
       "      <td>44</td>\n",
       "      <td>1</td>\n",
       "      <td>...</td>\n",
       "      <td>No</td>\n",
       "      <td>Up</td>\n",
       "      <td>No</td>\n",
       "      <td>No</td>\n",
       "      <td>No</td>\n",
       "      <td>No</td>\n",
       "      <td>No</td>\n",
       "      <td>Ch</td>\n",
       "      <td>Yes</td>\n",
       "      <td>0</td>\n",
       "    </tr>\n",
       "    <tr>\n",
       "      <th>4</th>\n",
       "      <td>Caucasian</td>\n",
       "      <td>Male</td>\n",
       "      <td>[40-50)</td>\n",
       "      <td>1</td>\n",
       "      <td>1</td>\n",
       "      <td>7</td>\n",
       "      <td>1</td>\n",
       "      <td>unknown</td>\n",
       "      <td>51</td>\n",
       "      <td>0</td>\n",
       "      <td>...</td>\n",
       "      <td>No</td>\n",
       "      <td>Steady</td>\n",
       "      <td>No</td>\n",
       "      <td>No</td>\n",
       "      <td>No</td>\n",
       "      <td>No</td>\n",
       "      <td>No</td>\n",
       "      <td>Ch</td>\n",
       "      <td>Yes</td>\n",
       "      <td>0</td>\n",
       "    </tr>\n",
       "  </tbody>\n",
       "</table>\n",
       "<p>5 rows × 44 columns</p>\n",
       "</div>"
      ],
      "text/plain": [
       "              race  gender      age  admission_type_id  \\\n",
       "0        Caucasian  Female   [0-10)                  6   \n",
       "1        Caucasian  Female  [10-20)                  1   \n",
       "2  AfricanAmerican  Female  [20-30)                  1   \n",
       "3        Caucasian    Male  [30-40)                  1   \n",
       "4        Caucasian    Male  [40-50)                  1   \n",
       "\n",
       "   discharge_disposition_id  admission_source_id  time_in_hospital payer_code  \\\n",
       "0                        25                    1                 1    unknown   \n",
       "1                         1                    7                 3    unknown   \n",
       "2                         1                    7                 2    unknown   \n",
       "3                         1                    7                 2    unknown   \n",
       "4                         1                    7                 1    unknown   \n",
       "\n",
       "   num_lab_procedures  num_procedures    ...      tolazamide  insulin  \\\n",
       "0                  41               0    ...              No       No   \n",
       "1                  59               0    ...              No       Up   \n",
       "2                  11               5    ...              No       No   \n",
       "3                  44               1    ...              No       Up   \n",
       "4                  51               0    ...              No   Steady   \n",
       "\n",
       "   glyburide-metformin  glipizide-metformin glimepiride-pioglitazone  \\\n",
       "0                   No                   No                       No   \n",
       "1                   No                   No                       No   \n",
       "2                   No                   No                       No   \n",
       "3                   No                   No                       No   \n",
       "4                   No                   No                       No   \n",
       "\n",
       "  metformin-rosiglitazone metformin-pioglitazone  change diabetesMed  \\\n",
       "0                      No                     No      No          No   \n",
       "1                      No                     No      Ch         Yes   \n",
       "2                      No                     No      No         Yes   \n",
       "3                      No                     No      Ch         Yes   \n",
       "4                      No                     No      Ch         Yes   \n",
       "\n",
       "  readmitted  \n",
       "0          0  \n",
       "1          0  \n",
       "2          0  \n",
       "3          0  \n",
       "4          0  \n",
       "\n",
       "[5 rows x 44 columns]"
      ]
     },
     "execution_count": 108,
     "metadata": {},
     "output_type": "execute_result"
    }
   ],
   "source": [
    "#Label Encoding\n",
    "data['readmitted'] = (data.readmitted == '<30').astype('int')\n",
    "data.groupby('readmitted').size() \n",
    "data.head()"
   ]
  },
  {
   "cell_type": "code",
   "execution_count": 109,
   "metadata": {},
   "outputs": [],
   "source": [
    "data['change'] = data['change'].replace('Ch', 1)\n",
    "data['change'] = data['change'].replace('No', 0)"
   ]
  },
  {
   "cell_type": "code",
   "execution_count": 110,
   "metadata": {},
   "outputs": [],
   "source": [
    "data['diabetesMed'] = data['diabetesMed'].replace('Yes', 1)\n",
    "data['diabetesMed'] = data['diabetesMed'].replace('No', 0)"
   ]
  },
  {
   "cell_type": "markdown",
   "metadata": {},
   "source": [
    "#### Drugs Encoding"
   ]
  },
  {
   "cell_type": "code",
   "execution_count": 111,
   "metadata": {},
   "outputs": [
    {
     "data": {
      "text/plain": [
       "No        46687\n",
       "Steady    30332\n",
       "Down      12012\n",
       "Up        11093\n",
       "Name: insulin, dtype: int64"
      ]
     },
     "execution_count": 111,
     "metadata": {},
     "output_type": "execute_result"
    }
   ],
   "source": [
    "data[\"insulin\"].value_counts()"
   ]
  },
  {
   "cell_type": "code",
   "execution_count": 112,
   "metadata": {},
   "outputs": [
    {
     "name": "stdout",
     "output_type": "stream",
     "text": [
      "No        100111\n",
      "Steady        13\n",
      "Name: glipizide-metformin, dtype: int64\n",
      "--------------------------------------------------------\n",
      "No        100122\n",
      "Steady         2\n",
      "Name: metformin-rosiglitazone, dtype: int64\n",
      "--------------------------------------------------------\n",
      "No        46687\n",
      "Steady    30332\n",
      "Down      12012\n",
      "Up        11093\n",
      "Name: insulin, dtype: int64\n"
     ]
    }
   ],
   "source": [
    "print(data[\"glipizide-metformin\"].value_counts())\n",
    "print(\"--------------------------------------------------------\")\n",
    "print(data[\"metformin-rosiglitazone\"].value_counts())\n",
    "print(\"--------------------------------------------------------\")\n",
    "print(data[\"insulin\"].value_counts())\n"
   ]
  },
  {
   "cell_type": "code",
   "execution_count": 113,
   "metadata": {},
   "outputs": [],
   "source": [
    "drug_Values_encoding = {\"No\" : int(0) , \"Steady\" : int(1) , \"Down\" : int(1) ,\n",
    "                           \"Up\" : int(1)}\n",
    "encoding_columns = {\"insulin\" : drug_Values_encoding ,\n",
    "                \"metformin\" :drug_Values_encoding,\n",
    "                \"repaglinide\" :drug_Values_encoding,\n",
    "                \"nateglinide\" :drug_Values_encoding,\n",
    "                \"chlorpropamide\" :drug_Values_encoding,\n",
    "                \"glimepiride\" :drug_Values_encoding,\n",
    "                \"acetohexamide\" :drug_Values_encoding,\n",
    "                \"glipizide\" :drug_Values_encoding,\n",
    "                \"glyburide\" :drug_Values_encoding,\n",
    "                \"tolbutamide\" :drug_Values_encoding,\n",
    "                \"pioglitazone\" :drug_Values_encoding,\n",
    "                \"rosiglitazone\" :drug_Values_encoding,\n",
    "                \"acarbose\" :drug_Values_encoding,\n",
    "                \"miglitol\" :drug_Values_encoding,\n",
    "                \"troglitazone\" :drug_Values_encoding,\n",
    "                \"tolazamide\" :drug_Values_encoding,\n",
    "                \"glipizide-metformin\" :drug_Values_encoding,\n",
    "                \"glyburide-metformin\" :drug_Values_encoding,\n",
    "                \"glimepiride-pioglitazone\" :drug_Values_encoding,\n",
    "                \"metformin-rosiglitazone\" :drug_Values_encoding,\n",
    "                \"metformin-pioglitazone\" :drug_Values_encoding\n",
    "               }"
   ]
  },
  {
   "cell_type": "code",
   "execution_count": 114,
   "metadata": {},
   "outputs": [
    {
     "name": "stdout",
     "output_type": "stream",
     "text": [
      "0    100111\n",
      "1        13\n",
      "Name: glipizide-metformin, dtype: int64\n",
      "--------------------------------------------------------\n",
      "0    100122\n",
      "1         2\n",
      "Name: metformin-rosiglitazone, dtype: int64\n",
      "--------------------------------------------------------\n",
      "1    53437\n",
      "0    46687\n",
      "Name: insulin, dtype: int64\n"
     ]
    }
   ],
   "source": [
    "data.replace(encoding_columns, inplace=True)\n",
    "print(data[\"glipizide-metformin\"].value_counts())\n",
    "print(\"--------------------------------------------------------\")\n",
    "print(data[\"metformin-rosiglitazone\"].value_counts())\n",
    "print(\"--------------------------------------------------------\")\n",
    "print(data[\"insulin\"].value_counts())"
   ]
  },
  {
   "cell_type": "code",
   "execution_count": 115,
   "metadata": {},
   "outputs": [
    {
     "name": "stdout",
     "output_type": "stream",
     "text": [
      "<class 'pandas.core.frame.DataFrame'>\n",
      "Int64Index: 100124 entries, 0 to 101765\n",
      "Data columns (total 44 columns):\n",
      "race                        100124 non-null object\n",
      "gender                      100124 non-null object\n",
      "age                         100124 non-null object\n",
      "admission_type_id           100124 non-null int64\n",
      "discharge_disposition_id    100124 non-null int64\n",
      "admission_source_id         100124 non-null int64\n",
      "time_in_hospital            100124 non-null int64\n",
      "payer_code                  100124 non-null object\n",
      "num_lab_procedures          100124 non-null int64\n",
      "num_procedures              100124 non-null int64\n",
      "num_medications             100124 non-null int64\n",
      "number_outpatient           100124 non-null int64\n",
      "number_emergency            100124 non-null int64\n",
      "number_inpatient            100124 non-null int64\n",
      "diag_1                      100103 non-null object\n",
      "diag_2                      99766 non-null object\n",
      "diag_3                      98703 non-null object\n",
      "number_diagnoses            100124 non-null int64\n",
      "max_glu_serum               100124 non-null object\n",
      "A1Cresult                   100124 non-null object\n",
      "metformin                   100124 non-null int64\n",
      "repaglinide                 100124 non-null int64\n",
      "nateglinide                 100124 non-null int64\n",
      "chlorpropamide              100124 non-null int64\n",
      "glimepiride                 100124 non-null int64\n",
      "acetohexamide               100124 non-null int64\n",
      "glipizide                   100124 non-null int64\n",
      "glyburide                   100124 non-null int64\n",
      "tolbutamide                 100124 non-null int64\n",
      "pioglitazone                100124 non-null int64\n",
      "rosiglitazone               100124 non-null int64\n",
      "acarbose                    100124 non-null int64\n",
      "miglitol                    100124 non-null int64\n",
      "troglitazone                100124 non-null int64\n",
      "tolazamide                  100124 non-null int64\n",
      "insulin                     100124 non-null int64\n",
      "glyburide-metformin         100124 non-null int64\n",
      "glipizide-metformin         100124 non-null int64\n",
      "glimepiride-pioglitazone    100124 non-null int64\n",
      "metformin-rosiglitazone     100124 non-null int64\n",
      "metformin-pioglitazone      100124 non-null int64\n",
      "change                      100124 non-null int64\n",
      "diabetesMed                 100124 non-null int64\n",
      "readmitted                  100124 non-null int32\n",
      "dtypes: int32(1), int64(34), object(9)\n",
      "memory usage: 34.0+ MB\n"
     ]
    }
   ],
   "source": [
    "data.info()"
   ]
  },
  {
   "cell_type": "markdown",
   "metadata": {},
   "source": [
    "### Gender & Age & Race Encoding"
   ]
  },
  {
   "cell_type": "code",
   "execution_count": 116,
   "metadata": {},
   "outputs": [
    {
     "data": {
      "text/plain": [
       "7    25566\n",
       "6    22188\n",
       "5    17102\n",
       "8    16708\n",
       "4     9626\n",
       "3     3765\n",
       "9     2669\n",
       "2     1650\n",
       "1      690\n",
       "0      160\n",
       "Name: age, dtype: int64"
      ]
     },
     "execution_count": 116,
     "metadata": {},
     "output_type": "execute_result"
    }
   ],
   "source": [
    "#age Encoding\n",
    "age_Values_encoding = {\"age\" : {\"[0-10)\" : 0 , \"[10-20)\" : 1 , \"[20-30)\" : 2 ,\n",
    "                       \"[30-40)\" : 3 , \"[40-50)\" : 4 , \"[50-60)\" : 5 ,\n",
    "                       \"[60-70)\" : 6 , \"[70-80)\" : 7 , \"[80-90)\" : 8 ,\n",
    "                       \"[90-100)\" : 9\n",
    "                      }}\n",
    "data.replace(age_Values_encoding, inplace=True)\n",
    "data['age'].value_counts()"
   ]
  },
  {
   "cell_type": "code",
   "execution_count": 117,
   "metadata": {},
   "outputs": [
    {
     "name": "stdout",
     "output_type": "stream",
     "text": [
      "--------------------RACE-------------------------------\n",
      "Caucasian          74854\n",
      "AfricanAmerican    18888\n",
      "unknown             2239\n",
      "Hispanic            2024\n",
      "Other               1486\n",
      "Asian                633\n",
      "Name: race, dtype: int64\n",
      "2    74854\n",
      "0    18888\n",
      "5     2239\n",
      "3     2024\n",
      "4     1486\n",
      "1      633\n",
      "Name: race, dtype: int64\n",
      "0\n"
     ]
    }
   ],
   "source": [
    "print(\"--------------------RACE-------------------------------\")\n",
    "print(data[\"race\"].value_counts())\n",
    "data = data.apply(lambda x:x.fillna(x.value_counts().index[0]))\n",
    "data[\"race\"] = data[\"race\"].astype('category')\n",
    "data[\"race\"] = data[\"race\"].cat.codes\n",
    "print(data[\"race\"].value_counts())\n",
    "print(data['race'].isnull().sum())"
   ]
  },
  {
   "cell_type": "code",
   "execution_count": 118,
   "metadata": {},
   "outputs": [
    {
     "name": "stdout",
     "output_type": "stream",
     "text": [
      "------------------GENDER-------------------------------\n",
      "Female    53869\n",
      "Male      46255\n",
      "Name: gender, dtype: int64\n",
      "0    53869\n",
      "1    46255\n",
      "Name: gender, dtype: int64\n"
     ]
    },
    {
     "data": {
      "text/html": [
       "<div>\n",
       "<style scoped>\n",
       "    .dataframe tbody tr th:only-of-type {\n",
       "        vertical-align: middle;\n",
       "    }\n",
       "\n",
       "    .dataframe tbody tr th {\n",
       "        vertical-align: top;\n",
       "    }\n",
       "\n",
       "    .dataframe thead th {\n",
       "        text-align: right;\n",
       "    }\n",
       "</style>\n",
       "<table border=\"1\" class=\"dataframe\">\n",
       "  <thead>\n",
       "    <tr style=\"text-align: right;\">\n",
       "      <th></th>\n",
       "      <th>race</th>\n",
       "      <th>gender</th>\n",
       "      <th>age</th>\n",
       "      <th>admission_type_id</th>\n",
       "      <th>discharge_disposition_id</th>\n",
       "      <th>admission_source_id</th>\n",
       "      <th>time_in_hospital</th>\n",
       "      <th>payer_code</th>\n",
       "      <th>num_lab_procedures</th>\n",
       "      <th>num_procedures</th>\n",
       "      <th>...</th>\n",
       "      <th>tolazamide</th>\n",
       "      <th>insulin</th>\n",
       "      <th>glyburide-metformin</th>\n",
       "      <th>glipizide-metformin</th>\n",
       "      <th>glimepiride-pioglitazone</th>\n",
       "      <th>metformin-rosiglitazone</th>\n",
       "      <th>metformin-pioglitazone</th>\n",
       "      <th>change</th>\n",
       "      <th>diabetesMed</th>\n",
       "      <th>readmitted</th>\n",
       "    </tr>\n",
       "  </thead>\n",
       "  <tbody>\n",
       "    <tr>\n",
       "      <th>0</th>\n",
       "      <td>2</td>\n",
       "      <td>0</td>\n",
       "      <td>0</td>\n",
       "      <td>6</td>\n",
       "      <td>25</td>\n",
       "      <td>1</td>\n",
       "      <td>1</td>\n",
       "      <td>unknown</td>\n",
       "      <td>41</td>\n",
       "      <td>0</td>\n",
       "      <td>...</td>\n",
       "      <td>0</td>\n",
       "      <td>0</td>\n",
       "      <td>0</td>\n",
       "      <td>0</td>\n",
       "      <td>0</td>\n",
       "      <td>0</td>\n",
       "      <td>0</td>\n",
       "      <td>0</td>\n",
       "      <td>0</td>\n",
       "      <td>0</td>\n",
       "    </tr>\n",
       "    <tr>\n",
       "      <th>1</th>\n",
       "      <td>2</td>\n",
       "      <td>0</td>\n",
       "      <td>1</td>\n",
       "      <td>1</td>\n",
       "      <td>1</td>\n",
       "      <td>7</td>\n",
       "      <td>3</td>\n",
       "      <td>unknown</td>\n",
       "      <td>59</td>\n",
       "      <td>0</td>\n",
       "      <td>...</td>\n",
       "      <td>0</td>\n",
       "      <td>1</td>\n",
       "      <td>0</td>\n",
       "      <td>0</td>\n",
       "      <td>0</td>\n",
       "      <td>0</td>\n",
       "      <td>0</td>\n",
       "      <td>1</td>\n",
       "      <td>1</td>\n",
       "      <td>0</td>\n",
       "    </tr>\n",
       "    <tr>\n",
       "      <th>2</th>\n",
       "      <td>0</td>\n",
       "      <td>0</td>\n",
       "      <td>2</td>\n",
       "      <td>1</td>\n",
       "      <td>1</td>\n",
       "      <td>7</td>\n",
       "      <td>2</td>\n",
       "      <td>unknown</td>\n",
       "      <td>11</td>\n",
       "      <td>5</td>\n",
       "      <td>...</td>\n",
       "      <td>0</td>\n",
       "      <td>0</td>\n",
       "      <td>0</td>\n",
       "      <td>0</td>\n",
       "      <td>0</td>\n",
       "      <td>0</td>\n",
       "      <td>0</td>\n",
       "      <td>0</td>\n",
       "      <td>1</td>\n",
       "      <td>0</td>\n",
       "    </tr>\n",
       "    <tr>\n",
       "      <th>3</th>\n",
       "      <td>2</td>\n",
       "      <td>1</td>\n",
       "      <td>3</td>\n",
       "      <td>1</td>\n",
       "      <td>1</td>\n",
       "      <td>7</td>\n",
       "      <td>2</td>\n",
       "      <td>unknown</td>\n",
       "      <td>44</td>\n",
       "      <td>1</td>\n",
       "      <td>...</td>\n",
       "      <td>0</td>\n",
       "      <td>1</td>\n",
       "      <td>0</td>\n",
       "      <td>0</td>\n",
       "      <td>0</td>\n",
       "      <td>0</td>\n",
       "      <td>0</td>\n",
       "      <td>1</td>\n",
       "      <td>1</td>\n",
       "      <td>0</td>\n",
       "    </tr>\n",
       "    <tr>\n",
       "      <th>4</th>\n",
       "      <td>2</td>\n",
       "      <td>1</td>\n",
       "      <td>4</td>\n",
       "      <td>1</td>\n",
       "      <td>1</td>\n",
       "      <td>7</td>\n",
       "      <td>1</td>\n",
       "      <td>unknown</td>\n",
       "      <td>51</td>\n",
       "      <td>0</td>\n",
       "      <td>...</td>\n",
       "      <td>0</td>\n",
       "      <td>1</td>\n",
       "      <td>0</td>\n",
       "      <td>0</td>\n",
       "      <td>0</td>\n",
       "      <td>0</td>\n",
       "      <td>0</td>\n",
       "      <td>1</td>\n",
       "      <td>1</td>\n",
       "      <td>0</td>\n",
       "    </tr>\n",
       "  </tbody>\n",
       "</table>\n",
       "<p>5 rows × 44 columns</p>\n",
       "</div>"
      ],
      "text/plain": [
       "   race  gender  age  admission_type_id  discharge_disposition_id  \\\n",
       "0     2       0    0                  6                        25   \n",
       "1     2       0    1                  1                         1   \n",
       "2     0       0    2                  1                         1   \n",
       "3     2       1    3                  1                         1   \n",
       "4     2       1    4                  1                         1   \n",
       "\n",
       "   admission_source_id  time_in_hospital payer_code  num_lab_procedures  \\\n",
       "0                    1                 1    unknown                  41   \n",
       "1                    7                 3    unknown                  59   \n",
       "2                    7                 2    unknown                  11   \n",
       "3                    7                 2    unknown                  44   \n",
       "4                    7                 1    unknown                  51   \n",
       "\n",
       "   num_procedures    ...      tolazamide  insulin  glyburide-metformin  \\\n",
       "0               0    ...               0        0                    0   \n",
       "1               0    ...               0        1                    0   \n",
       "2               5    ...               0        0                    0   \n",
       "3               1    ...               0        1                    0   \n",
       "4               0    ...               0        1                    0   \n",
       "\n",
       "   glipizide-metformin glimepiride-pioglitazone metformin-rosiglitazone  \\\n",
       "0                    0                        0                       0   \n",
       "1                    0                        0                       0   \n",
       "2                    0                        0                       0   \n",
       "3                    0                        0                       0   \n",
       "4                    0                        0                       0   \n",
       "\n",
       "  metformin-pioglitazone  change diabetesMed readmitted  \n",
       "0                      0       0           0          0  \n",
       "1                      0       1           1          0  \n",
       "2                      0       0           1          0  \n",
       "3                      0       1           1          0  \n",
       "4                      0       1           1          0  \n",
       "\n",
       "[5 rows x 44 columns]"
      ]
     },
     "execution_count": 118,
     "metadata": {},
     "output_type": "execute_result"
    }
   ],
   "source": [
    "#data = pd.read_csv(\"dataset_diabetes/diabetic_data.csv\")\n",
    "print(\"------------------GENDER-------------------------------\")\n",
    "data[\"gender\"].replace({\"Unknown/Invalid\": str(data[\"gender\"].value_counts().index[0])}, inplace=True)\n",
    "print(data[\"gender\"].value_counts())\n",
    "\n",
    "data[\"gender\"] = data[\"gender\"].astype('category')\n",
    "data[\"gender\"] = data[\"gender\"].cat.codes\n",
    "print(data[\"gender\"].value_counts())\n",
    "#print(data.race.count())\n",
    "data.head()"
   ]
  },
  {
   "cell_type": "markdown",
   "metadata": {},
   "source": [
    "### Encoding max_glu_serum , A1Cresult"
   ]
  },
  {
   "cell_type": "code",
   "execution_count": 119,
   "metadata": {},
   "outputs": [],
   "source": [
    "data['A1Cresult'] = data['A1Cresult'].replace('>7', 1)\n",
    "data['A1Cresult'] = data['A1Cresult'].replace('>8', 1)\n",
    "data['A1Cresult'] = data['A1Cresult'].replace('Norm', 0)\n",
    "data['A1Cresult'] = data['A1Cresult'].replace('None', -1)\n",
    "\n",
    "data['max_glu_serum'] = data['max_glu_serum'].replace('>200', 1)\n",
    "data['max_glu_serum'] = data['max_glu_serum'].replace('>300', 1)\n",
    "data['max_glu_serum'] = data['max_glu_serum'].replace('Norm', 0)\n",
    "data['max_glu_serum'] = data['max_glu_serum'].replace('None', -1)\n"
   ]
  },
  {
   "cell_type": "markdown",
   "metadata": {},
   "source": [
    "### Diag_1 , Diag_2 , Diag_3 With Scaling\n",
    "2.1.3.3 Feature Scaling - In the dataset, we found the some numerical features like diag_1, diag_2 and diag_3 contains values with very high range so to make the data more interpretable and model friendly we decided to scale those features from zero to one. We used to min max scalar to perform this task.  2"
   ]
  },
  {
   "cell_type": "code",
   "execution_count": 120,
   "metadata": {},
   "outputs": [
    {
     "name": "stdout",
     "output_type": "stream",
     "text": [
      "['250.83' '276' '648' '8' '197' '414' '428' '398' '434' '250.7' '157'\n",
      " '518' '999' '410' '682' '402' '737' '572' 'V57' '189' '786' '427' '996'\n",
      " '277' '584' '462' '473' '411' '174' '486' '998' '511' '626' '295' '196'\n",
      " '250.6' '618' '182' '845' '423' '808' '250.4' '722' '250.11' '784' '707'\n",
      " '440' '151' '715' '198' '564' '812' '997' '403' '38' '590' '556' '578'\n",
      " '250.32' '433' 'V58' '569' '185' '536' '255' '250.13' '599' '558' '574'\n",
      " '491' '560' '244' '250.03' '577' '730' '188' '824' '250.8' '332' '562'\n",
      " '291' '296' '510' '401' '263' '438' '70' '250.02' '493' '642' '625' '571'\n",
      " '738' '593' '250.42' '807' '456' '446' '575' '250.41' '820' '515' '780'\n",
      " '250.22' '995' '235' '250.82' '721' '787' '724' '282' '514' 'V55' '281'\n",
      " '250.33' '530' '466' '435' '250.12' 'V53' '789' '566' '822' '191' '557'\n",
      " '432' '733' '162' '455' '711' '482' '202' '280' '553' '225' '154' '441'\n",
      " '250.81' '349' '962' '592' '507' '386' '156' '200' '728' '348' '459'\n",
      " '426' '388' '607' '337' '82' '531' '596' '288' '656' '573' '492' '220'\n",
      " '516' '210' '922' '286' '885' '958' '661' '969' '250.93' '227' '112'\n",
      " '404' '823' '532' '416' '346' '535' '453' '250' '595' '211' '303'\n",
      " '250.01' '852' '218' '782' '540' '457' '285' '340' '54' '351' '601' '723'\n",
      " '555' '153' '443' '380' '424' '241' '358' '694' '331' '345' '681' '447'\n",
      " '290' '158' '579' '436' '335' '309' '654' '805' '799' '292' '183' '78'\n",
      " '851' '431' '458' '586' '311' '892' '305' '293' '415' '591' '794' '79'\n",
      " '655' '429' '278' '658' '598' '729' '585' '444' '604' '727' '214' '552'\n",
      " '284' '680' '708' '41' '644' '481' '821' '413' '437' '968' '756' '632'\n",
      " '359' '275' '512' '781' '420' '368' '522' '294' '825' '135' '304' '320'\n",
      " '250.31' '669' '868' '496' '250.43' '826' '567' '3' '203' '53' '251'\n",
      " '565' '161' '495' '49' '250.1' '297' '663' '576' '355' '850' '287'\n",
      " '250.2' '611' '840' '350' '726' '537' '620' '180' '366' '783' '11' '751'\n",
      " '716' '250.3' '199' '464' '580' '836' '664' '283' '813' '966' '289' '965'\n",
      " '184' '480' '608' '333' '972' '212' '117' '788' '924' '959' '621' '238'\n",
      " '785' '714' '942' '250.23' '710' '47' '933' '508' '478' '844' '7' '736'\n",
      " '233' '42' '250.5' '397' '395' '201' '421' '253' '250.92' '600' '494'\n",
      " '977' '39' '659' '312' '614' '647' '652' '646' '274' '861' '425' '527'\n",
      " '451' '485' '217' '250.53' '442' '970' '193' '160' '322' '581' '475'\n",
      " '623' '374' '582' '568' '465' '801' '237' '376' '150' '461' '913' '226'\n",
      " '617' '987' '641' '298' '550' '336' '362' '228' '513' '383' '746' '353'\n",
      " '911' '506' '873' '155' '860' '534' '802' '141' 'V45' '396' '310' '341'\n",
      " '242' '719' '239' '533' '616' '519' '301' 'V66' '5' '989' '230' '385'\n",
      " '300' '853' '871' '570' '848' '463' '9' '790' '934' '250.21' '236' '361'\n",
      " '594' '501' '810' '643' '430' '528' '205' '791' '983' '992' '490' '172'\n",
      " '171' '622' '306' '863' '864' '474' '660' '759' '204' '356' '634' '967'\n",
      " '551' '695' '187' '732' '747' '323' '308' '370' '252' '152' '846' '365'\n",
      " '718' '48' '266' '720' '94' '344' '797' '170' '878' '904' 'V56' '882'\n",
      " '843' '709' '973' '454' '686' '939' '487' '229' '991' '483' '357' '692'\n",
      " '796' '693' '935' '936' '800' '920' 'V26' '261' '307' '262' '250.9' '831'\n",
      " '145' '223' 'V71' '839' '685' 'V54' '35' '34' '179' '964' '136' '324'\n",
      " '389' '815' '334' '143' '526' '588' '192' 'V67' '394' '917' '88' '219'\n",
      " '325' '792' '717' '994' '990' '793' '207' '637' '195' '373' '847' '827'\n",
      " '164' '31' '891' '814' 'V60' '703' '865' '352' '627' '378' '342' '886'\n",
      " '369' '745' '705' '816' '541' '986' '610' '633' '640' '753' '173' '835'\n",
      " '379' '445' '272' '382' '945' '619' '881' '250.52' '866' '405' '916'\n",
      " '215' '893' '75' '671' '928' '906' '897' '725' '867' '115' '890' '734'\n",
      " '521' '674' '470' '834' '146' '696' '524' '980' '691' '384' '142' '879'\n",
      " '250.51' '246' '448' '955' '653' '149' '245' '735' '883' '854' '952'\n",
      " '838' '194' 'V43' '163' '216' '147' '354' '27' '477' '318' '880' '921'\n",
      " '377' '471' '683' '175' '602' '250.91' '982' '706' '375' '417' '131'\n",
      " '347' '870' '148' '862' '61' '817' '914' '360' '684' '314' 'V63' '36'\n",
      " '57' '240' '208' '915' '971' '795' '988' '452' '327' '731' '842' 'V25'\n",
      " '645' '803' '665' '110' '944' '603' '923' '412' '363' '957' '976' '698'\n",
      " '299' '700' '273' '974' '97' '529' '66' '98' '605' '941' '52' '84' '271'\n",
      " '837' '657' '895' '338' '523' '806' '542' '114' '543' '372' 'V70' 'E909'\n",
      " '583' 'V07' '422' '963' '615' '279' '500' '903' '919' '875' '381' '704'\n",
      " '23' '58' '649' '832' '133' '975' '833' '391' '690' '10' 'V51']\n"
     ]
    }
   ],
   "source": [
    "print(data.diag_1.unique())"
   ]
  },
  {
   "cell_type": "code",
   "execution_count": 122,
   "metadata": {},
   "outputs": [],
   "source": [
    "from sklearn.preprocessing import MinMaxScaler\n",
    "\n",
    "scaler = MinMaxScaler(feature_range=(0, 1))\n",
    "\n",
    "data['new_diag1'] = data['diag_1']\n",
    "data.loc[data['diag_1'].str.contains('V'), ['new_diag1']] = 0\n",
    "data.loc[data['diag_1'].str.contains('E'), ['new_diag1']] = 0\n",
    "\n",
    "data['new_diag2'] = data['diag_2']\n",
    "data.loc[data['diag_2'].str.contains('V'), ['new_diag2']] = 0\n",
    "data.loc[data['diag_2'].str.contains('E'), ['new_diag2']] = 0\n",
    "\n",
    "data['new_diag3'] = data['diag_3']\n",
    "data.loc[data['diag_3'].str.contains('V'), ['new_diag3']] = 0\n",
    "data.loc[data['diag_3'].str.contains('E'), ['new_diag3']] = 0"
   ]
  },
  {
   "cell_type": "code",
   "execution_count": 123,
   "metadata": {},
   "outputs": [
    {
     "name": "stdout",
     "output_type": "stream",
     "text": [
      "250       12916\n",
      "401        8251\n",
      "276        5020\n",
      "428        4463\n",
      "427        3833\n",
      "414        3646\n",
      "496        2535\n",
      "403        2295\n",
      "272        1967\n",
      "585        1955\n",
      "599        1899\n",
      "V45        1383\n",
      "250.02     1348\n",
      "707        1332\n",
      "780        1320\n",
      "285        1190\n",
      "425        1114\n",
      "250.6      1076\n",
      "424        1042\n",
      "305         919\n",
      "250.01      900\n",
      "584         891\n",
      "682         878\n",
      "518         768\n",
      "41          723\n",
      "493         689\n",
      "278         680\n",
      "530         624\n",
      "786         583\n",
      "491         557\n",
      "          ...  \n",
      "123           1\n",
      "E894          1\n",
      "E949          1\n",
      "381           1\n",
      "E828          1\n",
      "951           1\n",
      "697           1\n",
      "E922          1\n",
      "215           1\n",
      "308           1\n",
      "890           1\n",
      "875           1\n",
      "230           1\n",
      "186           1\n",
      "754           1\n",
      "370           1\n",
      "E883          1\n",
      "E864          1\n",
      "540           1\n",
      "E826          1\n",
      "E865          1\n",
      "674           1\n",
      "395           1\n",
      "971           1\n",
      "669           1\n",
      "880           1\n",
      "524           1\n",
      "122           1\n",
      "193           1\n",
      "E912          1\n",
      "Name: diag_3, Length: 787, dtype: int64\n",
      "--------------------------------\n",
      "250       12916\n",
      "401        8251\n",
      "0          5035\n",
      "276        5020\n",
      "428        4463\n",
      "427        3833\n",
      "414        3646\n",
      "496        2535\n",
      "403        2295\n",
      "272        1967\n",
      "585        1955\n",
      "599        1899\n",
      "250.02     1348\n",
      "707        1332\n",
      "780        1320\n",
      "285        1190\n",
      "425        1114\n",
      "250.6      1076\n",
      "424        1042\n",
      "305         919\n",
      "250.01      900\n",
      "584         891\n",
      "682         878\n",
      "518         768\n",
      "41          723\n",
      "493         689\n",
      "278         680\n",
      "530         624\n",
      "786         583\n",
      "491         557\n",
      "          ...  \n",
      "952           1\n",
      "370           1\n",
      "863           1\n",
      "308           1\n",
      "158           1\n",
      "17            1\n",
      "215           1\n",
      "148           1\n",
      "970           1\n",
      "603           1\n",
      "195           1\n",
      "391           1\n",
      "14            1\n",
      "834           1\n",
      "890           1\n",
      "879           1\n",
      "111           1\n",
      "186           1\n",
      "876           1\n",
      "657           1\n",
      "361           1\n",
      "193           1\n",
      "236           1\n",
      "893           1\n",
      "837           1\n",
      "674           1\n",
      "754           1\n",
      "980           1\n",
      "49            1\n",
      "951           1\n",
      "Name: new_diag3, Length: 670, dtype: int64\n"
     ]
    }
   ],
   "source": [
    "print(data['diag_3'].value_counts())\n",
    "print(\"--------------------------------\")\n",
    "print(data['new_diag3'].value_counts())"
   ]
  },
  {
   "cell_type": "code",
   "execution_count": 124,
   "metadata": {},
   "outputs": [
    {
     "name": "stdout",
     "output_type": "stream",
     "text": [
      "276       7011\n",
      "428       6531\n",
      "250       6057\n",
      "427       4929\n",
      "401       3726\n",
      "496       3269\n",
      "599       3248\n",
      "403       2761\n",
      "414       2645\n",
      "411       2554\n",
      "250.02    2059\n",
      "707       1975\n",
      "585       1837\n",
      "584       1583\n",
      "250.01    1517\n",
      "285       1512\n",
      "491       1510\n",
      "780       1464\n",
      "682       1428\n",
      "425       1411\n",
      "486       1304\n",
      "518       1192\n",
      "424       1054\n",
      "413       1040\n",
      "250.6      891\n",
      "493        879\n",
      "305        701\n",
      "786        642\n",
      "280        603\n",
      "998        564\n",
      "          ... \n",
      "E854         1\n",
      "968          1\n",
      "974          1\n",
      "871          1\n",
      "316          1\n",
      "E965         1\n",
      "E813         1\n",
      "917          1\n",
      "927          1\n",
      "944          1\n",
      "268          1\n",
      "955          1\n",
      "520          1\n",
      "833          1\n",
      "163          1\n",
      "580          1\n",
      "302          1\n",
      "975          1\n",
      "702          1\n",
      "E868         1\n",
      "615          1\n",
      "52           1\n",
      "182          1\n",
      "350          1\n",
      "364          1\n",
      "942          1\n",
      "256          1\n",
      "66           1\n",
      "884          1\n",
      "347          1\n",
      "Name: diag_2, Length: 747, dtype: int64\n",
      "--------------------------------\n",
      "276       7011\n",
      "428       6531\n",
      "250       6057\n",
      "427       4929\n",
      "401       3726\n",
      "496       3269\n",
      "599       3248\n",
      "403       2761\n",
      "414       2645\n",
      "411       2554\n",
      "0         2524\n",
      "250.02    2059\n",
      "707       1975\n",
      "585       1837\n",
      "584       1583\n",
      "250.01    1517\n",
      "285       1512\n",
      "491       1510\n",
      "780       1464\n",
      "682       1428\n",
      "425       1411\n",
      "486       1304\n",
      "518       1192\n",
      "424       1054\n",
      "413       1040\n",
      "250.6      891\n",
      "493        879\n",
      "305        701\n",
      "786        642\n",
      "280        603\n",
      "          ... \n",
      "388          1\n",
      "748          1\n",
      "506          1\n",
      "846          1\n",
      "908          1\n",
      "605          1\n",
      "879          1\n",
      "235          1\n",
      "123          1\n",
      "990          1\n",
      "115          1\n",
      "752          1\n",
      "962          1\n",
      "683          1\n",
      "99           1\n",
      "137          1\n",
      "915          1\n",
      "271          1\n",
      "863          1\n",
      "96           1\n",
      "212          1\n",
      "832          1\n",
      "88           1\n",
      "912          1\n",
      "250.31       1\n",
      "994          1\n",
      "880          1\n",
      "5            1\n",
      "963          1\n",
      "256          1\n",
      "Name: new_diag2, Length: 650, dtype: int64\n"
     ]
    }
   ],
   "source": [
    "print(data['diag_2'].value_counts())\n",
    "print(\"--------------------------------\")\n",
    "print(data['new_diag2'].value_counts())"
   ]
  },
  {
   "cell_type": "code",
   "execution_count": 125,
   "metadata": {},
   "outputs": [
    {
     "name": "stdout",
     "output_type": "stream",
     "text": [
      "428       6757\n",
      "414       6555\n",
      "786       4016\n",
      "410       3478\n",
      "486       3413\n",
      "427       2729\n",
      "491       2252\n",
      "715       2147\n",
      "682       2030\n",
      "780       2012\n",
      "434       1958\n",
      "996       1944\n",
      "276       1862\n",
      "250.8     1667\n",
      "599       1581\n",
      "38        1522\n",
      "584       1482\n",
      "V57       1204\n",
      "250.6     1178\n",
      "820       1075\n",
      "493       1054\n",
      "577       1048\n",
      "435       1015\n",
      "518        986\n",
      "562        985\n",
      "574        961\n",
      "296        895\n",
      "560        866\n",
      "250.7      861\n",
      "250.13     849\n",
      "          ... \n",
      "690          1\n",
      "318          1\n",
      "839          1\n",
      "698          1\n",
      "391          1\n",
      "V43          1\n",
      "381          1\n",
      "114          1\n",
      "906          1\n",
      "216          1\n",
      "389          1\n",
      "870          1\n",
      "V51          1\n",
      "143          1\n",
      "366          1\n",
      "903          1\n",
      "832          1\n",
      "605          1\n",
      "61           1\n",
      "957          1\n",
      "133          1\n",
      "817          1\n",
      "982          1\n",
      "148          1\n",
      "976          1\n",
      "E909         1\n",
      "10           1\n",
      "834          1\n",
      "V70          1\n",
      "471          1\n",
      "Name: diag_1, Length: 715, dtype: int64\n",
      "--------------------------------\n",
      "428       6757\n",
      "414       6555\n",
      "786       4016\n",
      "410       3478\n",
      "486       3413\n",
      "427       2729\n",
      "491       2252\n",
      "715       2147\n",
      "682       2030\n",
      "780       2012\n",
      "434       1958\n",
      "996       1944\n",
      "276       1862\n",
      "250.8     1667\n",
      "0         1639\n",
      "599       1581\n",
      "38        1522\n",
      "584       1482\n",
      "250.6     1178\n",
      "820       1075\n",
      "493       1054\n",
      "577       1048\n",
      "435       1015\n",
      "518        986\n",
      "562        985\n",
      "574        961\n",
      "296        895\n",
      "560        866\n",
      "250.7      861\n",
      "250.13     849\n",
      "          ... \n",
      "994          1\n",
      "148          1\n",
      "605          1\n",
      "791          1\n",
      "391          1\n",
      "817          1\n",
      "523          1\n",
      "988          1\n",
      "870          1\n",
      "389          1\n",
      "216          1\n",
      "895          1\n",
      "160          1\n",
      "698          1\n",
      "700          1\n",
      "219          1\n",
      "649          1\n",
      "325          1\n",
      "61           1\n",
      "691          1\n",
      "833          1\n",
      "906          1\n",
      "412          1\n",
      "97           1\n",
      "915          1\n",
      "684          1\n",
      "640          1\n",
      "919          1\n",
      "381          1\n",
      "827          1\n",
      "Name: new_diag1, Length: 697, dtype: int64\n"
     ]
    }
   ],
   "source": [
    "print(data['diag_1'].value_counts())\n",
    "print(\"--------------------------------\")\n",
    "print(data['new_diag1'].value_counts())"
   ]
  },
  {
   "cell_type": "code",
   "execution_count": 126,
   "metadata": {},
   "outputs": [],
   "source": [
    "test_data = data.copy()\n",
    "data[['new_diag3', 'new_diag2' , 'new_diag1']] = scaler.fit_transform(test_data[['new_diag3', 'new_diag2' , 'new_diag1']])"
   ]
  },
  {
   "cell_type": "code",
   "execution_count": 127,
   "metadata": {
    "scrolled": false
   },
   "outputs": [
    {
     "name": "stdout",
     "output_type": "stream",
     "text": [
      "0.428428    6757\n",
      "0.414414    6555\n",
      "0.786787    4016\n",
      "0.410410    3478\n",
      "0.486486    3413\n",
      "0.427427    2729\n",
      "0.491491    2252\n",
      "0.715716    2147\n",
      "0.682683    2030\n",
      "0.780781    2012\n",
      "0.434434    1958\n",
      "0.996997    1944\n",
      "0.276276    1862\n",
      "0.251051    1667\n",
      "0.000000    1639\n",
      "0.599600    1581\n",
      "0.038038    1522\n",
      "0.584585    1482\n",
      "0.250851    1178\n",
      "0.820821    1075\n",
      "0.493493    1054\n",
      "0.577578    1048\n",
      "0.435435    1015\n",
      "0.518519     986\n",
      "0.562563     985\n",
      "0.574575     961\n",
      "0.296296     895\n",
      "0.560561     866\n",
      "0.250951     861\n",
      "0.250380     849\n",
      "            ... \n",
      "0.885886       1\n",
      "0.363363       1\n",
      "0.412412       1\n",
      "0.827828       1\n",
      "0.637638       1\n",
      "0.216216       1\n",
      "0.994995       1\n",
      "0.057057       1\n",
      "0.325325       1\n",
      "0.471471       1\n",
      "0.219219       1\n",
      "0.832833       1\n",
      "0.097097       1\n",
      "0.803804       1\n",
      "0.838839       1\n",
      "0.010010       1\n",
      "0.098098       1\n",
      "0.365365       1\n",
      "0.375375       1\n",
      "0.974975       1\n",
      "0.640641       1\n",
      "0.084084       1\n",
      "0.691692       1\n",
      "0.299299       1\n",
      "0.700701       1\n",
      "0.988989       1\n",
      "0.982983       1\n",
      "0.939940       1\n",
      "0.347347       1\n",
      "0.903904       1\n",
      "Name: new_diag1, Length: 697, dtype: int64\n",
      "--------------------------------\n",
      "0.428428    6757\n",
      "0.414414    6555\n",
      "0.786787    4016\n",
      "0.410410    3478\n",
      "0.486486    3413\n",
      "0.427427    2729\n",
      "0.491491    2252\n",
      "0.715716    2147\n",
      "0.682683    2030\n",
      "0.780781    2012\n",
      "0.434434    1958\n",
      "0.996997    1944\n",
      "0.276276    1862\n",
      "0.251051    1667\n",
      "0.000000    1639\n",
      "0.599600    1581\n",
      "0.038038    1522\n",
      "0.584585    1482\n",
      "0.250851    1178\n",
      "0.820821    1075\n",
      "0.493493    1054\n",
      "0.577578    1048\n",
      "0.435435    1015\n",
      "0.518519     986\n",
      "0.562563     985\n",
      "0.574575     961\n",
      "0.296296     895\n",
      "0.560561     866\n",
      "0.250951     861\n",
      "0.250380     849\n",
      "            ... \n",
      "0.885886       1\n",
      "0.363363       1\n",
      "0.412412       1\n",
      "0.827828       1\n",
      "0.637638       1\n",
      "0.216216       1\n",
      "0.994995       1\n",
      "0.057057       1\n",
      "0.325325       1\n",
      "0.471471       1\n",
      "0.219219       1\n",
      "0.832833       1\n",
      "0.097097       1\n",
      "0.803804       1\n",
      "0.838839       1\n",
      "0.010010       1\n",
      "0.098098       1\n",
      "0.365365       1\n",
      "0.375375       1\n",
      "0.974975       1\n",
      "0.640641       1\n",
      "0.084084       1\n",
      "0.691692       1\n",
      "0.299299       1\n",
      "0.700701       1\n",
      "0.988989       1\n",
      "0.982983       1\n",
      "0.939940       1\n",
      "0.347347       1\n",
      "0.903904       1\n",
      "Name: new_diag1, Length: 697, dtype: int64\n"
     ]
    }
   ],
   "source": [
    "print(data['new_diag1'].value_counts())\n",
    "print(\"--------------------------------\")\n",
    "print(data['new_diag1'].value_counts())\n"
   ]
  },
  {
   "cell_type": "code",
   "execution_count": 128,
   "metadata": {},
   "outputs": [],
   "source": [
    "data = data.drop(columns = ['diag_1','diag_2','diag_3','payer_code'])"
   ]
  },
  {
   "cell_type": "markdown",
   "metadata": {},
   "source": [
    "--------------------------\n",
    "## Diag_1 , Diag_2 , Diag_3 With Categorical Encoding\n",
    "-------------------"
   ]
  },
  {
   "cell_type": "code",
   "execution_count": null,
   "metadata": {},
   "outputs": [],
   "source": []
  },
  {
   "cell_type": "markdown",
   "metadata": {},
   "source": [
    "---------------------------------\n",
    "# features Creation\n",
    "- service_utilization\n",
    "- Number of medication changes\n",
    "- Number of medication used"
   ]
  },
  {
   "cell_type": "code",
   "execution_count": 129,
   "metadata": {},
   "outputs": [
    {
     "data": {
      "text/plain": [
       "1    46438\n",
       "0    22846\n",
       "2    21714\n",
       "3     7738\n",
       "4     1325\n",
       "5       58\n",
       "6        5\n",
       "Name: N_medication_used, dtype: int64"
      ]
     },
     "execution_count": 129,
     "metadata": {},
     "output_type": "execute_result"
    }
   ],
   "source": [
    "data['N_medication_used'] = 0\n",
    "for col in encoding_columns.keys():\n",
    "    data['N_medication_used'] = data['N_medication_used'] + data[col]\n",
    "data[\"N_medication_used\"].value_counts()"
   ]
  },
  {
   "cell_type": "code",
   "execution_count": 130,
   "metadata": {},
   "outputs": [],
   "source": [
    "data['service_utilization'] = data['number_outpatient'] + data['number_emergency'] + data['number_inpatient']"
   ]
  },
  {
   "cell_type": "code",
   "execution_count": 131,
   "metadata": {},
   "outputs": [
    {
     "data": {
      "text/plain": [
       "1    46438\n",
       "0    22846\n",
       "2    21714\n",
       "3     7738\n",
       "4     1325\n",
       "5       58\n",
       "6        5\n",
       "Name: num_medication_change, dtype: int64"
      ]
     },
     "execution_count": 131,
     "metadata": {},
     "output_type": "execute_result"
    }
   ],
   "source": [
    "data[\"num_medication_change\"]= 0\n",
    "for col in encoding_columns.keys():\n",
    "   # print(data[colname])\n",
    "    data[\"num_medication_change\"] +=  data[col]\n",
    "data[\"num_medication_change\"].value_counts()"
   ]
  },
  {
   "cell_type": "code",
   "execution_count": 132,
   "metadata": {},
   "outputs": [
    {
     "data": {
      "text/html": [
       "<div>\n",
       "<style scoped>\n",
       "    .dataframe tbody tr th:only-of-type {\n",
       "        vertical-align: middle;\n",
       "    }\n",
       "\n",
       "    .dataframe tbody tr th {\n",
       "        vertical-align: top;\n",
       "    }\n",
       "\n",
       "    .dataframe thead th {\n",
       "        text-align: right;\n",
       "    }\n",
       "</style>\n",
       "<table border=\"1\" class=\"dataframe\">\n",
       "  <thead>\n",
       "    <tr style=\"text-align: right;\">\n",
       "      <th></th>\n",
       "      <th>race</th>\n",
       "      <th>gender</th>\n",
       "      <th>age</th>\n",
       "      <th>admission_type_id</th>\n",
       "      <th>discharge_disposition_id</th>\n",
       "      <th>admission_source_id</th>\n",
       "      <th>time_in_hospital</th>\n",
       "      <th>num_lab_procedures</th>\n",
       "      <th>num_procedures</th>\n",
       "      <th>num_medications</th>\n",
       "      <th>...</th>\n",
       "      <th>metformin-pioglitazone</th>\n",
       "      <th>change</th>\n",
       "      <th>diabetesMed</th>\n",
       "      <th>readmitted</th>\n",
       "      <th>new_diag1</th>\n",
       "      <th>new_diag2</th>\n",
       "      <th>new_diag3</th>\n",
       "      <th>N_medication_used</th>\n",
       "      <th>service_utilization</th>\n",
       "      <th>num_medication_change</th>\n",
       "    </tr>\n",
       "  </thead>\n",
       "  <tbody>\n",
       "    <tr>\n",
       "      <th>0</th>\n",
       "      <td>2</td>\n",
       "      <td>0</td>\n",
       "      <td>0</td>\n",
       "      <td>6</td>\n",
       "      <td>25</td>\n",
       "      <td>1</td>\n",
       "      <td>1</td>\n",
       "      <td>41</td>\n",
       "      <td>0</td>\n",
       "      <td>1</td>\n",
       "      <td>...</td>\n",
       "      <td>0</td>\n",
       "      <td>0</td>\n",
       "      <td>0</td>\n",
       "      <td>0</td>\n",
       "      <td>0.251081</td>\n",
       "      <td>0.276276</td>\n",
       "      <td>0.250250</td>\n",
       "      <td>0</td>\n",
       "      <td>0</td>\n",
       "      <td>0</td>\n",
       "    </tr>\n",
       "    <tr>\n",
       "      <th>1</th>\n",
       "      <td>2</td>\n",
       "      <td>0</td>\n",
       "      <td>1</td>\n",
       "      <td>1</td>\n",
       "      <td>1</td>\n",
       "      <td>7</td>\n",
       "      <td>3</td>\n",
       "      <td>59</td>\n",
       "      <td>0</td>\n",
       "      <td>18</td>\n",
       "      <td>...</td>\n",
       "      <td>0</td>\n",
       "      <td>1</td>\n",
       "      <td>1</td>\n",
       "      <td>0</td>\n",
       "      <td>0.276276</td>\n",
       "      <td>0.250260</td>\n",
       "      <td>0.255255</td>\n",
       "      <td>1</td>\n",
       "      <td>0</td>\n",
       "      <td>1</td>\n",
       "    </tr>\n",
       "    <tr>\n",
       "      <th>2</th>\n",
       "      <td>0</td>\n",
       "      <td>0</td>\n",
       "      <td>2</td>\n",
       "      <td>1</td>\n",
       "      <td>1</td>\n",
       "      <td>7</td>\n",
       "      <td>2</td>\n",
       "      <td>11</td>\n",
       "      <td>5</td>\n",
       "      <td>13</td>\n",
       "      <td>...</td>\n",
       "      <td>0</td>\n",
       "      <td>0</td>\n",
       "      <td>1</td>\n",
       "      <td>0</td>\n",
       "      <td>0.648649</td>\n",
       "      <td>0.250250</td>\n",
       "      <td>0.000000</td>\n",
       "      <td>1</td>\n",
       "      <td>3</td>\n",
       "      <td>1</td>\n",
       "    </tr>\n",
       "    <tr>\n",
       "      <th>3</th>\n",
       "      <td>2</td>\n",
       "      <td>1</td>\n",
       "      <td>3</td>\n",
       "      <td>1</td>\n",
       "      <td>1</td>\n",
       "      <td>7</td>\n",
       "      <td>2</td>\n",
       "      <td>44</td>\n",
       "      <td>1</td>\n",
       "      <td>16</td>\n",
       "      <td>...</td>\n",
       "      <td>0</td>\n",
       "      <td>1</td>\n",
       "      <td>1</td>\n",
       "      <td>0</td>\n",
       "      <td>0.008008</td>\n",
       "      <td>0.250681</td>\n",
       "      <td>0.403403</td>\n",
       "      <td>1</td>\n",
       "      <td>0</td>\n",
       "      <td>1</td>\n",
       "    </tr>\n",
       "    <tr>\n",
       "      <th>4</th>\n",
       "      <td>2</td>\n",
       "      <td>1</td>\n",
       "      <td>4</td>\n",
       "      <td>1</td>\n",
       "      <td>1</td>\n",
       "      <td>7</td>\n",
       "      <td>1</td>\n",
       "      <td>51</td>\n",
       "      <td>0</td>\n",
       "      <td>8</td>\n",
       "      <td>...</td>\n",
       "      <td>0</td>\n",
       "      <td>1</td>\n",
       "      <td>1</td>\n",
       "      <td>0</td>\n",
       "      <td>0.197197</td>\n",
       "      <td>0.157157</td>\n",
       "      <td>0.250250</td>\n",
       "      <td>2</td>\n",
       "      <td>0</td>\n",
       "      <td>2</td>\n",
       "    </tr>\n",
       "  </tbody>\n",
       "</table>\n",
       "<p>5 rows × 46 columns</p>\n",
       "</div>"
      ],
      "text/plain": [
       "   race  gender  age  admission_type_id  discharge_disposition_id  \\\n",
       "0     2       0    0                  6                        25   \n",
       "1     2       0    1                  1                         1   \n",
       "2     0       0    2                  1                         1   \n",
       "3     2       1    3                  1                         1   \n",
       "4     2       1    4                  1                         1   \n",
       "\n",
       "   admission_source_id  time_in_hospital  num_lab_procedures  num_procedures  \\\n",
       "0                    1                 1                  41               0   \n",
       "1                    7                 3                  59               0   \n",
       "2                    7                 2                  11               5   \n",
       "3                    7                 2                  44               1   \n",
       "4                    7                 1                  51               0   \n",
       "\n",
       "   num_medications          ...            metformin-pioglitazone  change  \\\n",
       "0                1          ...                                 0       0   \n",
       "1               18          ...                                 0       1   \n",
       "2               13          ...                                 0       0   \n",
       "3               16          ...                                 0       1   \n",
       "4                8          ...                                 0       1   \n",
       "\n",
       "   diabetesMed  readmitted  new_diag1  new_diag2  new_diag3  \\\n",
       "0            0           0   0.251081   0.276276   0.250250   \n",
       "1            1           0   0.276276   0.250260   0.255255   \n",
       "2            1           0   0.648649   0.250250   0.000000   \n",
       "3            1           0   0.008008   0.250681   0.403403   \n",
       "4            1           0   0.197197   0.157157   0.250250   \n",
       "\n",
       "   N_medication_used  service_utilization  num_medication_change  \n",
       "0                  0                    0                      0  \n",
       "1                  1                    0                      1  \n",
       "2                  1                    3                      1  \n",
       "3                  1                    0                      1  \n",
       "4                  2                    0                      2  \n",
       "\n",
       "[5 rows x 46 columns]"
      ]
     },
     "execution_count": 132,
     "metadata": {},
     "output_type": "execute_result"
    }
   ],
   "source": [
    "data.head()"
   ]
  },
  {
   "cell_type": "markdown",
   "metadata": {},
   "source": [
    "# --------------------------------\n",
    "--------------------------------\n",
    "# Predictive Modelling\n",
    "--------------------------\n",
    "-------------------------------"
   ]
  },
  {
   "cell_type": "markdown",
   "metadata": {},
   "source": [
    "# Data Split"
   ]
  },
  {
   "cell_type": "code",
   "execution_count": 133,
   "metadata": {},
   "outputs": [
    {
     "name": "stdout",
     "output_type": "stream",
     "text": [
      "0.12794169004247075\n"
     ]
    }
   ],
   "source": [
    "one_perc = (len(data[data['readmitted'] == 1]) / len(data[data['readmitted'] == 0]))\n",
    "print(one_perc)"
   ]
  },
  {
   "cell_type": "code",
   "execution_count": 134,
   "metadata": {},
   "outputs": [
    {
     "name": "stdout",
     "output_type": "stream",
     "text": [
      "(100124, 46)\n",
      "(100124, 46)\n"
     ]
    }
   ],
   "source": [
    "print(data.shape)\n",
    "data_clean = data.dropna()\n",
    "print(data_clean.shape)"
   ]
  },
  {
   "cell_type": "code",
   "execution_count": 135,
   "metadata": {},
   "outputs": [
    {
     "name": "stdout",
     "output_type": "stream",
     "text": [
      "features names: ['race', 'gender', 'age', 'admission_type_id', 'discharge_disposition_id', 'admission_source_id', 'time_in_hospital', 'num_lab_procedures', 'num_procedures', 'num_medications', 'number_outpatient', 'number_emergency', 'number_inpatient', 'number_diagnoses', 'max_glu_serum', 'A1Cresult', 'metformin', 'repaglinide', 'nateglinide', 'chlorpropamide', 'glimepiride', 'acetohexamide', 'glipizide', 'glyburide', 'tolbutamide', 'pioglitazone', 'rosiglitazone', 'acarbose', 'miglitol', 'troglitazone', 'tolazamide', 'insulin', 'glyburide-metformin', 'glipizide-metformin', 'glimepiride-pioglitazone', 'metformin-rosiglitazone', 'metformin-pioglitazone', 'change', 'diabetesMed', 'readmitted', 'new_diag1', 'new_diag2', 'new_diag3', 'N_medication_used', 'service_utilization', 'num_medication_change']\n",
      "target names: [0 1] \n"
     ]
    }
   ],
   "source": [
    "target = data.loc[:,'readmitted']\n",
    "features = data.drop(columns=['readmitted'])\n",
    "\n",
    "X = features.values\n",
    "y = target.values\n",
    "\n",
    "target_names = data.readmitted.unique()\n",
    "features_names = data.columns\n",
    "\n",
    "\n",
    "\n",
    "print(\"features names: {}\".format(list(features_names)))\n",
    "print(\"target names: {} \".format(target_names))"
   ]
  },
  {
   "cell_type": "code",
   "execution_count": 136,
   "metadata": {},
   "outputs": [
    {
     "data": {
      "text/html": [
       "<div>\n",
       "<style scoped>\n",
       "    .dataframe tbody tr th:only-of-type {\n",
       "        vertical-align: middle;\n",
       "    }\n",
       "\n",
       "    .dataframe tbody tr th {\n",
       "        vertical-align: top;\n",
       "    }\n",
       "\n",
       "    .dataframe thead th {\n",
       "        text-align: right;\n",
       "    }\n",
       "</style>\n",
       "<table border=\"1\" class=\"dataframe\">\n",
       "  <thead>\n",
       "    <tr style=\"text-align: right;\">\n",
       "      <th></th>\n",
       "      <th>0</th>\n",
       "    </tr>\n",
       "  </thead>\n",
       "  <tbody>\n",
       "  </tbody>\n",
       "</table>\n",
       "</div>"
      ],
      "text/plain": [
       "Empty DataFrame\n",
       "Columns: [0]\n",
       "Index: []"
      ]
     },
     "execution_count": 136,
     "metadata": {},
     "output_type": "execute_result"
    }
   ],
   "source": [
    "data = data.dropna()\n",
    "null_value =data.isnull().sum()\n",
    "null_value = null_value.to_frame()\n",
    "null_value = null_value[null_value.values > 0 ]\n",
    "null_value"
   ]
  },
  {
   "cell_type": "code",
   "execution_count": 137,
   "metadata": {},
   "outputs": [],
   "source": [
    "# data.info()\n"
   ]
  },
  {
   "cell_type": "code",
   "execution_count": 138,
   "metadata": {},
   "outputs": [
    {
     "name": "stdout",
     "output_type": "stream",
     "text": [
      "(50062, 45)\n",
      "(50062, 45)\n"
     ]
    }
   ],
   "source": [
    "from sklearn.model_selection import train_test_split\n",
    "# Not Balance\n",
    "X_train, X_test, y_train, y_test = train_test_split(X, y, random_state=1,stratify=y,test_size=0.5)\n",
    "print(X_train.shape)\n",
    "print(X_test.shape)"
   ]
  },
  {
   "cell_type": "markdown",
   "metadata": {},
   "source": [
    "# Data Balancing\n",
    "conda install -c glemaitre imbalanced-learn"
   ]
  },
  {
   "cell_type": "code",
   "execution_count": 139,
   "metadata": {},
   "outputs": [
    {
     "name": "stdout",
     "output_type": "stream",
     "text": [
      "Before OverSampling, counts of label '1': 5678\n",
      "Before OverSampling, counts of label '0': 44384 \n",
      "\n",
      "After OverSampling, the shape of train_X: (88768, 45)\n",
      "After OverSampling, the shape of train_y: (88768,) \n",
      "\n",
      "After OverSampling, counts of label '1': 44384\n",
      "After OverSampling, counts of label '0': 44384\n"
     ]
    }
   ],
   "source": [
    "print(\"Before OverSampling, counts of label '1': {}\".format(sum(y_train == 1))) \n",
    "print(\"Before OverSampling, counts of label '0': {} \\n\".format(sum(y_train == 0))) \n",
    "  \n",
    "# import SMOTE module from imblearn library \n",
    "# pip install imblearn (if you don't have imblearn in your system) \n",
    "from imblearn.over_sampling import SMOTE \n",
    "sm = SMOTE(random_state = 2) \n",
    "X_train_res, y_train_res = sm.fit_sample(X_train, y_train.ravel()) \n",
    "  \n",
    "print('After OverSampling, the shape of train_X: {}'.format(X_train_res.shape)) \n",
    "print('After OverSampling, the shape of train_y: {} \\n'.format(y_train_res.shape)) \n",
    "  \n",
    "print(\"After OverSampling, counts of label '1': {}\".format(sum(y_train_res == 1))) \n",
    "print(\"After OverSampling, counts of label '0': {}\".format(sum(y_train_res == 0))) \n"
   ]
  },
  {
   "cell_type": "code",
   "execution_count": 140,
   "metadata": {},
   "outputs": [],
   "source": [
    "from sklearn.metrics import confusion_matrix\n",
    "from sklearn.metrics import accuracy_score\n",
    "from sklearn.metrics import roc_auc_score, roc_curve,auc\n",
    "from sklearn.metrics import precision_recall_curve\n",
    "from sklearn.metrics import classification_report\n",
    "from sklearn.metrics import recall_score, precision_score, accuracy_score\n",
    "\n",
    "def train_and_test(classifier, X_train, X_test, y_train, y_test,t_p):\n",
    "    \n",
    "    model=classifier.fit(X_train, y_train)\n",
    "    y_predict = model.predict(X_test)\n",
    "    accuracy_train=model.score(X_train,y_train)\n",
    "    accuracy_test=model.score(X_test, y_test)\n",
    "    print(\"accuracy train = \"+str(accuracy_train))\n",
    "    print(\"accuracy test = \"+str(accuracy_test)+'\\n')\n",
    "    \n",
    "    recall=recall_score(y_test, y_predict)\n",
    "    precision=precision_score(y_test, y_predict)\n",
    "    print('recall   : '+str(recall))\n",
    "    print('precision: '+str(precision))\n",
    "    \n",
    "    confusion = confusion_matrix(y_test, y_predict)\n",
    "    print('confusion  matrix')\n",
    "    print(confusion)\n",
    "    print(classification_report(y_test, y_predict, target_names=['not 1', '1']))\n",
    "    if t_p==True:\n",
    "        y_scores = model.decision_function(X_test)\n",
    "        precision, recall, thresholds = precision_recall_curve(y_test, y_scores)  \n",
    "\n",
    "        closest_zero = np.argmin(np.abs(thresholds))\n",
    "        closest_zero_p = precision[closest_zero]\n",
    "        closest_zero_r = recall[closest_zero]\n",
    "\n",
    "        plt.figure()\n",
    "        plt.xlim([0.0, 1.01])\n",
    "        plt.ylim([0.0, 1.01])\n",
    "        plt.plot(precision, recall, label='Precision-Recall Curve')\n",
    "        plt.plot(closest_zero_p, closest_zero_r, 'o', markersize = 12, fillstyle = 'none', c='r', mew=3)\n",
    "        plt.xlabel('Precision', fontsize=16)\n",
    "        plt.ylabel('Recall', fontsize=16)\n",
    "        plt.title('Precision-Recall Curve ', fontsize=16)\n",
    "        plt.axes().set_aspect('equal')\n",
    "        plt.show()\n",
    "\n",
    "        fpr, tpr, _ = roc_curve(y_test, y_scores)\n",
    "        roc_auc = auc(fpr, tpr)  \n",
    "\n",
    "\n",
    "        print('area under roc : ' +str(roc_auc))\n",
    "\n",
    "\n",
    "        plt.figure()\n",
    "        plt.xlim([-0.01, 1.00])\n",
    "        plt.ylim([-0.01, 1.01])\n",
    "        plt.plot(fpr, tpr, lw=3, label=' ROC curve (area = {:0.2f})'.format(roc_auc))\n",
    "        plt.xlabel('False Positive Rate', fontsize=16)\n",
    "        plt.ylabel('True Positive Rate', fontsize=16)\n",
    "        plt.title('ROC curve ', fontsize=16)\n",
    "        plt.legend(loc='lower right', fontsize=13)\n",
    "        plt.plot([0, 1], [0, 1], color='navy', lw=3, linestyle='--')\n",
    "        plt.axes().set_aspect('equal')\n",
    "        plt.show()"
   ]
  },
  {
   "cell_type": "code",
   "execution_count": 141,
   "metadata": {},
   "outputs": [
    {
     "name": "stdout",
     "output_type": "stream",
     "text": [
      "<class 'pandas.core.frame.DataFrame'>\n",
      "Int64Index: 100124 entries, 0 to 101765\n",
      "Data columns (total 46 columns):\n",
      "race                        100124 non-null int8\n",
      "gender                      100124 non-null int8\n",
      "age                         100124 non-null int64\n",
      "admission_type_id           100124 non-null int64\n",
      "discharge_disposition_id    100124 non-null int64\n",
      "admission_source_id         100124 non-null int64\n",
      "time_in_hospital            100124 non-null int64\n",
      "num_lab_procedures          100124 non-null int64\n",
      "num_procedures              100124 non-null int64\n",
      "num_medications             100124 non-null int64\n",
      "number_outpatient           100124 non-null int64\n",
      "number_emergency            100124 non-null int64\n",
      "number_inpatient            100124 non-null int64\n",
      "number_diagnoses            100124 non-null int64\n",
      "max_glu_serum               100124 non-null int64\n",
      "A1Cresult                   100124 non-null int64\n",
      "metformin                   100124 non-null int64\n",
      "repaglinide                 100124 non-null int64\n",
      "nateglinide                 100124 non-null int64\n",
      "chlorpropamide              100124 non-null int64\n",
      "glimepiride                 100124 non-null int64\n",
      "acetohexamide               100124 non-null int64\n",
      "glipizide                   100124 non-null int64\n",
      "glyburide                   100124 non-null int64\n",
      "tolbutamide                 100124 non-null int64\n",
      "pioglitazone                100124 non-null int64\n",
      "rosiglitazone               100124 non-null int64\n",
      "acarbose                    100124 non-null int64\n",
      "miglitol                    100124 non-null int64\n",
      "troglitazone                100124 non-null int64\n",
      "tolazamide                  100124 non-null int64\n",
      "insulin                     100124 non-null int64\n",
      "glyburide-metformin         100124 non-null int64\n",
      "glipizide-metformin         100124 non-null int64\n",
      "glimepiride-pioglitazone    100124 non-null int64\n",
      "metformin-rosiglitazone     100124 non-null int64\n",
      "metformin-pioglitazone      100124 non-null int64\n",
      "change                      100124 non-null int64\n",
      "diabetesMed                 100124 non-null int64\n",
      "readmitted                  100124 non-null int32\n",
      "new_diag1                   100124 non-null float64\n",
      "new_diag2                   100124 non-null float64\n",
      "new_diag3                   100124 non-null float64\n",
      "N_medication_used           100124 non-null int64\n",
      "service_utilization         100124 non-null int64\n",
      "num_medication_change       100124 non-null int64\n",
      "dtypes: float64(3), int32(1), int64(40), int8(2)\n",
      "memory usage: 34.2 MB\n"
     ]
    }
   ],
   "source": [
    "data.info()"
   ]
  },
  {
   "cell_type": "markdown",
   "metadata": {},
   "source": [
    "### logistic regression \n",
    "#### Before Data Balancing"
   ]
  },
  {
   "cell_type": "code",
   "execution_count": 142,
   "metadata": {},
   "outputs": [
    {
     "name": "stdout",
     "output_type": "stream",
     "text": [
      "accuracy train = 0.886820342774959\n",
      "accuracy test = 0.886580640006392\n",
      "\n",
      "recall   : 0.014967423842225745\n",
      "precision: 0.5029585798816568\n",
      "confusion  matrix\n",
      "[[44299    84]\n",
      " [ 5594    85]]\n",
      "              precision    recall  f1-score   support\n",
      "\n",
      "       not 1       0.89      1.00      0.94     44383\n",
      "           1       0.50      0.01      0.03      5679\n",
      "\n",
      "    accuracy                           0.89     50062\n",
      "   macro avg       0.70      0.51      0.48     50062\n",
      "weighted avg       0.84      0.89      0.84     50062\n",
      "\n"
     ]
    },
    {
     "data": {
      "image/png": "[encoded data removed]",
      "text/plain": [
       "<Figure size 432x288 with 1 Axes>"
      ]
     },
     "metadata": {
      "needs_background": "light"
     },
     "output_type": "display_data"
    },
    {
     "name": "stdout",
     "output_type": "stream",
     "text": [
      "area under roc : 0.6374175213238642\n"
     ]
    },
    {
     "data": {
      "image/png": "[encoded data removed]",
      "text/plain": [
       "<Figure size 432x288 with 1 Axes>"
      ]
     },
     "metadata": {
      "needs_background": "light"
     },
     "output_type": "display_data"
    }
   ],
   "source": [
    "from sklearn.linear_model import LogisticRegression\n",
    "log_reg=LogisticRegression(penalty ='l2',C=0.01)\n",
    "train_and_test(log_reg, X_train, X_test, y_train, y_test,True)"
   ]
  },
  {
   "cell_type": "markdown",
   "metadata": {},
   "source": [
    "#### After Data Balancing"
   ]
  },
  {
   "cell_type": "code",
   "execution_count": 143,
   "metadata": {},
   "outputs": [
    {
     "name": "stdout",
     "output_type": "stream",
     "text": [
      "accuracy train = 0.6071444664744052\n",
      "accuracy test = 0.6421437417602174\n",
      "\n",
      "recall   : 0.5444620531783765\n",
      "precision: 0.16786102062975028\n",
      "confusion  matrix\n",
      "[[29055 15328]\n",
      " [ 2587  3092]]\n",
      "              precision    recall  f1-score   support\n",
      "\n",
      "       not 1       0.92      0.65      0.76     44383\n",
      "           1       0.17      0.54      0.26      5679\n",
      "\n",
      "    accuracy                           0.64     50062\n",
      "   macro avg       0.54      0.60      0.51     50062\n",
      "weighted avg       0.83      0.64      0.71     50062\n",
      "\n"
     ]
    },
    {
     "data": {
      "image/png": "[encoded data removed]",
      "text/plain": [
       "<Figure size 432x288 with 1 Axes>"
      ]
     },
     "metadata": {
      "needs_background": "light"
     },
     "output_type": "display_data"
    },
    {
     "name": "stdout",
     "output_type": "stream",
     "text": [
      "area under roc : 0.6395536361507899\n"
     ]
    },
    {
     "data": {
      "image/png": "[encoded data removed]",
      "text/plain": [
       "<Figure size 432x288 with 1 Axes>"
      ]
     },
     "metadata": {
      "needs_background": "light"
     },
     "output_type": "display_data"
    }
   ],
   "source": [
    "train_and_test(log_reg, X_train_res, X_test, y_train_res, y_test,True)"
   ]
  },
  {
   "cell_type": "markdown",
   "metadata": {},
   "source": [
    "Feature Importance in logistic regression"
   ]
  },
  {
   "cell_type": "code",
   "execution_count": 144,
   "metadata": {},
   "outputs": [],
   "source": [
    "# lr=log_reg.fit(X_train_res, y_train_res)\n",
    "# feature_importances = pd.DataFrame(lr.coef_[0], columns=['importance']).sort_values('importance',\n",
    "#                                                                         ascending=False)"
   ]
  },
  {
   "cell_type": "code",
   "execution_count": 145,
   "metadata": {},
   "outputs": [],
   "source": [
    "# num = 50\n",
    "# ylocs = np.arange(num)\n",
    "# # get the feature importance for top num and sort in reverse order\n",
    "# values_to_plot = feature_importances.iloc[:num].values.ravel()[::-1]\n",
    "# feature_labels = list(feature_importances.iloc[:num].index)[::-1]\n",
    "\n",
    "# plt.figure(num=None, figsize=(8, 15), dpi=80, facecolor='w', edgecolor='k');\n",
    "# plt.barh(ylocs, values_to_plot, align = 'center')\n",
    "# plt.ylabel('Features')\n",
    "# plt.xlabel('Importance Score')\n",
    "# plt.title('Positive Feature  - Logistic Regression')\n",
    "# plt.yticks(ylocs, feature_labels)\n",
    "# plt.show()"
   ]
  },
  {
   "cell_type": "markdown",
   "metadata": {},
   "source": [
    "### single layer perceptron \n",
    "#### After Data Balancing\n"
   ]
  },
  {
   "cell_type": "code",
   "execution_count": 146,
   "metadata": {},
   "outputs": [
    {
     "name": "stdout",
     "output_type": "stream",
     "text": [
      "accuracy train = 0.5006083273251623\n",
      "accuracy test = 0.1148775518357237\n",
      "\n",
      "recall   : 0.9996478253213594\n",
      "precision: 0.11357180010402913\n",
      "confusion  matrix\n",
      "[[   74 44309]\n",
      " [    2  5677]]\n",
      "              precision    recall  f1-score   support\n",
      "\n",
      "       not 1       0.97      0.00      0.00     44383\n",
      "           1       0.11      1.00      0.20      5679\n",
      "\n",
      "    accuracy                           0.11     50062\n",
      "   macro avg       0.54      0.50      0.10     50062\n",
      "weighted avg       0.88      0.11      0.03     50062\n",
      "\n"
     ]
    },
    {
     "data": {
      "image/png": "[encoded data removed]",
      "text/plain": [
       "<Figure size 432x288 with 1 Axes>"
      ]
     },
     "metadata": {
      "needs_background": "light"
     },
     "output_type": "display_data"
    },
    {
     "name": "stdout",
     "output_type": "stream",
     "text": [
      "area under roc : 0.5911052616613308\n"
     ]
    },
    {
     "data": {
      "image/png": "[encoded data removed]",
      "text/plain": [
       "<Figure size 432x288 with 1 Axes>"
      ]
     },
     "metadata": {
      "needs_background": "light"
     },
     "output_type": "display_data"
    }
   ],
   "source": [
    "# tol :default=1e-3\n",
    "# the stopping criterion .if it is not None,the iterations will stop when(loss > previous_loss-tol)\n",
    "from sklearn.linear_model import Perceptron\n",
    "clf= Perceptron(tol=1e-3,random_state=0)\n",
    "train_and_test(clf, X_train_res, X_test, y_train_res, y_test,True)"
   ]
  },
  {
   "cell_type": "markdown",
   "metadata": {},
   "source": [
    "### multilayer perceptron\n",
    "#### After Data Balancing\n"
   ]
  },
  {
   "cell_type": "code",
   "execution_count": 147,
   "metadata": {},
   "outputs": [
    {
     "name": "stdout",
     "output_type": "stream",
     "text": [
      "accuracy train = 0.6410868781542899\n",
      "accuracy test = 0.5913267548240182\n",
      "\n",
      "recall   : 0.6090861067089276\n",
      "precision: 0.1594156143423357\n",
      "confusion  matrix\n",
      "[[26144 18239]\n",
      " [ 2220  3459]]\n",
      "              precision    recall  f1-score   support\n",
      "\n",
      "       not 1       0.92      0.59      0.72     44383\n",
      "           1       0.16      0.61      0.25      5679\n",
      "\n",
      "    accuracy                           0.59     50062\n",
      "   macro avg       0.54      0.60      0.49     50062\n",
      "weighted avg       0.84      0.59      0.67     50062\n",
      "\n"
     ]
    }
   ],
   "source": [
    "from sklearn.neural_network import MLPClassifier\n",
    "mlp=MLPClassifier(solver='lbfgs',alpha=1e-5,hidden_layer_sizes=(5,2),random_state=1)\n",
    "# clf=MLPClassifier(solver='lbfgs',alpha=1e-05,hidden_layer_sizes=(5,2),random_state=1)\n",
    "train_and_test(mlp, X_train_res, X_test, y_train_res, y_test,False)"
   ]
  },
  {
   "cell_type": "markdown",
   "metadata": {},
   "source": [
    "### Decision Trees\n",
    "#### After Data Balancing\n"
   ]
  },
  {
   "cell_type": "code",
   "execution_count": 148,
   "metadata": {},
   "outputs": [
    {
     "name": "stdout",
     "output_type": "stream",
     "text": [
      "No restrictions training\n",
      "accuracy train = 1.0\n",
      "accuracy test = 0.7854060964404139\n",
      "\n",
      "recall   : 0.18031343546399015\n",
      "precision: 0.1439820022497188\n",
      "confusion  matrix\n",
      "[[38295  6088]\n",
      " [ 4655  1024]]\n",
      "              precision    recall  f1-score   support\n",
      "\n",
      "       not 1       0.89      0.86      0.88     44383\n",
      "           1       0.14      0.18      0.16      5679\n",
      "\n",
      "    accuracy                           0.79     50062\n",
      "   macro avg       0.52      0.52      0.52     50062\n",
      "weighted avg       0.81      0.79      0.80     50062\n",
      "\n",
      "\n",
      "restrictions training\n",
      "accuracy train = 0.9580592105263158\n",
      "accuracy test = 0.8248771523311095\n",
      "\n",
      "recall   : 0.14580031695721077\n",
      "precision: 0.1745362563237774\n",
      "confusion  matrix\n",
      "[[40467  3916]\n",
      " [ 4851   828]]\n",
      "              precision    recall  f1-score   support\n",
      "\n",
      "       not 1       0.89      0.91      0.90     44383\n",
      "           1       0.17      0.15      0.16      5679\n",
      "\n",
      "    accuracy                           0.82     50062\n",
      "   macro avg       0.53      0.53      0.53     50062\n",
      "weighted avg       0.81      0.82      0.82     50062\n",
      "\n"
     ]
    }
   ],
   "source": [
    "from sklearn.tree import DecisionTreeClassifier\n",
    "\n",
    "#  trained with the default hyperparameters,\n",
    "deep_tree_clf1 = DecisionTreeClassifier(random_state=42)\n",
    "# trained  with  min_samples_leaf=4.\n",
    "deep_tree_clf2 = DecisionTreeClassifier(min_samples_leaf=4, random_state=42)\n",
    "\n",
    "print(\"No restrictions training\")\n",
    "train_and_test(deep_tree_clf1, X_train_res, X_test, y_train_res, y_test,False)\n",
    "print(\"\\nrestrictions training\")\n",
    "train_and_test(deep_tree_clf2, X_train_res, X_test, y_train_res, y_test,False)\n"
   ]
  },
  {
   "cell_type": "markdown",
   "metadata": {},
   "source": [
    "Feature Importance in Decision Trees"
   ]
  },
  {
   "cell_type": "code",
   "execution_count": 174,
   "metadata": {},
   "outputs": [
    {
     "name": "stdout",
     "output_type": "stream",
     "text": [
      "45\n"
     ]
    },
    {
     "data": {
      "image/png": "[encoded data removed]",
      "text/plain": [
       "<Figure size 792x720 with 1 Axes>"
      ]
     },
     "metadata": {
      "needs_background": "light"
     },
     "output_type": "display_data"
    }
   ],
   "source": [
    "from sklearn.tree import DecisionTreeClassifier\n",
    "\n",
    "clf_all = DecisionTreeClassifier(random_state=42)\n",
    "clf_all.fit(X_train, y_train)\n",
    "print(X.shape[1])\n",
    "import numpy as np\n",
    "plt.figure(figsize=(11, 10))\n",
    "plt.barh(range(X.shape[1]), clf_all.feature_importances_, align='center')\n",
    "plt.yticks(np.arange(X.shape[1]), features_names)\n",
    "plt.xlabel('Feature Importance')\n",
    "plt.ylabel('Feature')\n",
    "plt.show()"
   ]
  },
  {
   "cell_type": "code",
   "execution_count": null,
   "metadata": {},
   "outputs": [],
   "source": []
  },
  {
   "cell_type": "markdown",
   "metadata": {},
   "source": [
    "### random forests \n",
    "#### After Data Balancing\n"
   ]
  },
  {
   "cell_type": "code",
   "execution_count": 150,
   "metadata": {},
   "outputs": [
    {
     "name": "stdout",
     "output_type": "stream",
     "text": [
      "accuracy train = 0.9999774693583273\n",
      "accuracy test = 0.8864208381606807\n",
      "\n",
      "recall   : 0.014967423842225745\n",
      "precision: 0.480225988700565\n",
      "confusion  matrix\n",
      "[[44291    92]\n",
      " [ 5594    85]]\n",
      "              precision    recall  f1-score   support\n",
      "\n",
      "       not 1       0.89      1.00      0.94     44383\n",
      "           1       0.48      0.01      0.03      5679\n",
      "\n",
      "    accuracy                           0.89     50062\n",
      "   macro avg       0.68      0.51      0.48     50062\n",
      "weighted avg       0.84      0.89      0.84     50062\n",
      "\n"
     ]
    }
   ],
   "source": [
    "from sklearn.ensemble import RandomForestClassifier\n",
    "rf=RandomForestClassifier(random_state  = 42)\n",
    "train_and_test(rf, X_train_res, X_test, y_train_res, y_test,False)"
   ]
  },
  {
   "cell_type": "code",
   "execution_count": 151,
   "metadata": {},
   "outputs": [
    {
     "name": "stdout",
     "output_type": "stream",
     "text": [
      "accuracy train = 0.8632164744051911\n",
      "accuracy test = 0.8288721984738924\n",
      "\n",
      "recall   : 0.18700475435816163\n",
      "precision: 0.21189146049481244\n",
      "confusion  matrix\n",
      "[[40433  3950]\n",
      " [ 4617  1062]]\n",
      "              precision    recall  f1-score   support\n",
      "\n",
      "       not 1       0.90      0.91      0.90     44383\n",
      "           1       0.21      0.19      0.20      5679\n",
      "\n",
      "    accuracy                           0.83     50062\n",
      "   macro avg       0.55      0.55      0.55     50062\n",
      "weighted avg       0.82      0.83      0.82     50062\n",
      "\n"
     ]
    }
   ],
   "source": [
    "rf1=RandomForestClassifier(max_depth = 6, random_state  = 42)\n",
    "train_and_test(rf1, X_train_res, X_test, y_train_res, y_test,False)"
   ]
  },
  {
   "cell_type": "markdown",
   "metadata": {},
   "source": [
    "### Naive Bayes\n",
    "#### After Data Balancing\n"
   ]
  },
  {
   "cell_type": "code",
   "execution_count": 158,
   "metadata": {},
   "outputs": [
    {
     "name": "stdout",
     "output_type": "stream",
     "text": [
      "accuracy train = 0.5132592826243692\n",
      "accuracy test = 0.15053333866006152\n",
      "\n",
      "recall   : 0.9642542701179785\n",
      "precision: 0.11456306617293249\n",
      "confusion  matrix\n",
      "[[ 2060 42323]\n",
      " [  203  5476]]\n",
      "              precision    recall  f1-score   support\n",
      "\n",
      "       not 1       0.91      0.05      0.09     44383\n",
      "           1       0.11      0.96      0.20      5679\n",
      "\n",
      "    accuracy                           0.15     50062\n",
      "   macro avg       0.51      0.51      0.15     50062\n",
      "weighted avg       0.82      0.15      0.10     50062\n",
      "\n"
     ]
    }
   ],
   "source": [
    "from sklearn.naive_bayes import GaussianNB\n",
    "nb = GaussianNB()\n",
    "train_and_test(nb, X_train_res, X_test, y_train_res, y_test,False)"
   ]
  },
  {
   "cell_type": "markdown",
   "metadata": {},
   "source": [
    "### AdaBoost\n",
    "#### After Data Balancing\n"
   ]
  },
  {
   "cell_type": "code",
   "execution_count": 159,
   "metadata": {},
   "outputs": [
    {
     "name": "stdout",
     "output_type": "stream",
     "text": [
      "accuracy train = 0.920207732516222\n",
      "accuracy test = 0.8803283927929367\n",
      "\n",
      "recall   : 0.050184891706286316\n",
      "precision: 0.3231292517006803\n",
      "confusion  matrix\n",
      "[[43786   597]\n",
      " [ 5394   285]]\n",
      "              precision    recall  f1-score   support\n",
      "\n",
      "       not 1       0.89      0.99      0.94     44383\n",
      "           1       0.32      0.05      0.09      5679\n",
      "\n",
      "    accuracy                           0.88     50062\n",
      "   macro avg       0.61      0.52      0.51     50062\n",
      "weighted avg       0.83      0.88      0.84     50062\n",
      "\n"
     ]
    }
   ],
   "source": [
    "from sklearn.ensemble import AdaBoostClassifier\n",
    "reg=AdaBoostClassifier(random_state = 0,n_estimators=100)\n",
    "train_and_test(reg, X_train_res, X_test, y_train_res, y_test,False)"
   ]
  },
  {
   "cell_type": "markdown",
   "metadata": {},
   "source": [
    "### XGBoost\n",
    "#### After Data Balancing\n"
   ]
  },
  {
   "cell_type": "code",
   "execution_count": 160,
   "metadata": {},
   "outputs": [
    {
     "name": "stdout",
     "output_type": "stream",
     "text": [
      "accuracy train = 0.9377253064167268\n",
      "accuracy test = 0.879569334025808\n",
      "\n",
      "recall   : 0.041908786758232085\n",
      "precision: 0.288135593220339\n",
      "confusion  matrix\n",
      "[[43795   588]\n",
      " [ 5441   238]]\n",
      "              precision    recall  f1-score   support\n",
      "\n",
      "       not 1       0.89      0.99      0.94     44383\n",
      "           1       0.29      0.04      0.07      5679\n",
      "\n",
      "    accuracy                           0.88     50062\n",
      "   macro avg       0.59      0.51      0.50     50062\n",
      "weighted avg       0.82      0.88      0.84     50062\n",
      "\n"
     ]
    }
   ],
   "source": [
    "from sklearn.ensemble import GradientBoostingClassifier\n",
    "gbc =GradientBoostingClassifier(n_estimators=100, learning_rate=1.0,\n",
    "     max_depth=3, random_state=42)\n",
    "train_and_test(gbc, X_train_res, X_test, y_train_res, y_test,False)"
   ]
  },
  {
   "cell_type": "markdown",
   "metadata": {},
   "source": [
    "### LightGBM\n",
    "#### After Data Balancing\n"
   ]
  },
  {
   "cell_type": "code",
   "execution_count": 161,
   "metadata": {},
   "outputs": [
    {
     "name": "stdout",
     "output_type": "stream",
     "text": [
      "accuracy train = 0.93670016222062\n",
      "accuracy test = 0.8867204666213895\n",
      "\n",
      "recall   : 0.01655220989610847\n",
      "precision: 0.5222222222222223\n",
      "confusion  matrix\n",
      "[[44297    86]\n",
      " [ 5585    94]]\n",
      "              precision    recall  f1-score   support\n",
      "\n",
      "       not 1       0.89      1.00      0.94     44383\n",
      "           1       0.52      0.02      0.03      5679\n",
      "\n",
      "    accuracy                           0.89     50062\n",
      "   macro avg       0.71      0.51      0.49     50062\n",
      "weighted avg       0.85      0.89      0.84     50062\n",
      "\n"
     ]
    }
   ],
   "source": [
    "from lightgbm import LGBMClassifier\n",
    "model = LGBMClassifier()\n",
    "train_and_test(model, X_train_res, X_test, y_train_res, y_test,False)"
   ]
  },
  {
   "cell_type": "markdown",
   "metadata": {},
   "source": [
    "# Model Selection"
   ]
  },
  {
   "cell_type": "markdown",
   "metadata": {},
   "source": [
    "##### high-bias model --> under-fit\n",
    "##### high-variance model -->over-fit"
   ]
  },
  {
   "cell_type": "code",
   "execution_count": 162,
   "metadata": {},
   "outputs": [
    {
     "name": "stdout",
     "output_type": "stream",
     "text": [
      "the best parameters is:\n",
      "\n",
      "penalty :l2\n",
      "C       :0.01\n",
      "0.8867004935134464\n"
     ]
    }
   ],
   "source": [
    "from sklearn.model_selection import GridSearchCV\n",
    "\n",
    "lr = LogisticRegression()\n",
    "penalty=['l1','l2']\n",
    "C=[0.01,0.1,1,10,100]\n",
    "parameters=dict(C=C,penalty=penalty)\n",
    "\n",
    "grid_clf_acc = GridSearchCV(lr, param_grid = parameters)\n",
    "model=grid_clf_acc.fit(X_train, y_train)\n",
    "print('the best parameters is:\\n')\n",
    "print('penalty :'+str(model.best_estimator_.get_params()['penalty']))\n",
    "print('C       :'+str(model.best_estimator_.get_params()['C']))\n",
    "print(model.best_score_)"
   ]
  },
  {
   "cell_type": "code",
   "execution_count": 163,
   "metadata": {},
   "outputs": [],
   "source": [
    "# # from sklearn.metrics import roc_auc_score\n",
    "# # from sklearn.datasets import load_digits\n",
    "# # from sklearn.model_selection import train_test_split\n",
    "\n",
    "\n",
    "# # dataset = load_digits()\n",
    "# # X, y = dataset.data, dataset.target == 1\n",
    "# # X_train, X_test, y_train, y_test = train_test_split(X, y, random_state=0)\n",
    "\n",
    "# clf = SVC(kernel='rbf')\n",
    "# grid_values = {'C': [0.001, 0.01, 0.1, 1, 10, 100],\n",
    "#                'gamma': [0.001, 0.01, 0.05, 0.1, 1, 10, 100]}\n",
    "\n",
    "# # default metric to optimize over grid parameters: accuracy\n",
    "# grid_clf_acc = GridSearchCV(clf, param_grid = grid_values)\n",
    "# grid_clf_acc.fit(X_train_res, y_train_res)\n",
    "# y_decision_fn_scores_acc = grid_clf_acc.decision_function(X_test) \n",
    "\n",
    "# print('Grid best parameter (max. accuracy): ', grid_clf_acc.best_params_)\n",
    "# print('Grid best score (accuracy): ', grid_clf_acc.best_score_)\n",
    "\n",
    "# # alternative metric to optimize over grid parameters: AUC\n",
    "# grid_clf_auc = GridSearchCV(clf, param_grid = grid_values, scoring = 'roc_auc')\n",
    "# grid_clf_auc.fit(X_train_res, y_train_res)\n",
    "# y_decision_fn_scores_auc = grid_clf_auc.decision_function(X_test) \n",
    "\n",
    "# print('Test set AUC: ', roc_auc_score(y_test, y_decision_fn_scores_auc))\n",
    "# print('Grid best parameter (max. AUC): ', grid_clf_auc.best_params_)\n",
    "# print('Grid best score (AUC): ', grid_clf_auc.best_score_)\n"
   ]
  },
  {
   "cell_type": "code",
   "execution_count": 164,
   "metadata": {},
   "outputs": [],
   "source": [
    "# print(\"Best estimator:\\n{}\".format(grid_clf_auc.best_estimator_))"
   ]
  },
  {
   "cell_type": "markdown",
   "metadata": {},
   "source": [
    "# Feature Selection"
   ]
  },
  {
   "cell_type": "markdown",
   "metadata": {},
   "source": [
    "#### Removing features with low variance"
   ]
  },
  {
   "cell_type": "markdown",
   "metadata": {},
   "source": [
    "#### Univariate feature selection"
   ]
  },
  {
   "cell_type": "code",
   "execution_count": 165,
   "metadata": {},
   "outputs": [
    {
     "name": "stdout",
     "output_type": "stream",
     "text": [
      "X_train.shape: (88768, 45)\n",
      "X_train_selected.shape: (88768, 22)\n"
     ]
    }
   ],
   "source": [
    "from sklearn.feature_selection import SelectPercentile\n",
    "# use f_classif (the default) and SelectPercentile to select 50% of features\n",
    "select = SelectPercentile(percentile=50)\n",
    "select.fit(X_train_res, y_train_res)\n",
    "# transform training set\n",
    "X_train_selected = select.transform(X_train_res)\n",
    "\n",
    "print(\"X_train.shape: {}\".format(X_train_res.shape))\n",
    "print(\"X_train_selected.shape: {}\".format(X_train_selected.shape))\n"
   ]
  },
  {
   "cell_type": "code",
   "execution_count": 166,
   "metadata": {},
   "outputs": [
    {
     "name": "stdout",
     "output_type": "stream",
     "text": [
      "[False False  True  True  True  True  True  True  True  True False  True\n",
      "  True  True False  True  True False False False  True False False  True\n",
      " False False  True False False False False  True False False False False\n",
      " False  True  True  True False  True False  True False]\n"
     ]
    },
    {
     "data": {
      "text/plain": [
       "([], <a list of 0 Text yticklabel objects>)"
      ]
     },
     "execution_count": 166,
     "metadata": {},
     "output_type": "execute_result"
    },
    {
     "data": {
      "image/png": "[encoded data removed]",
      "text/plain": [
       "<Figure size 1152x144 with 1 Axes>"
      ]
     },
     "metadata": {
      "needs_background": "light"
     },
     "output_type": "display_data"
    }
   ],
   "source": [
    "mask = select.get_support()\n",
    "print(mask)\n",
    "# visualize the mask. black is True, white is False\n",
    "import matplotlib.pyplot as plt\n",
    "plt.matshow(mask.reshape(1, -1), cmap='gray_r')\n",
    "plt.xlabel(\"Sample index\")\n",
    "plt.yticks(())"
   ]
  },
  {
   "cell_type": "code",
   "execution_count": 167,
   "metadata": {},
   "outputs": [
    {
     "name": "stdout",
     "output_type": "stream",
     "text": [
      "accuracy train = 0.6048914023071377\n",
      "accuracy test = 0.6398266149974032\n",
      "\n",
      "recall   : 0.5407642190526502\n",
      "precision: 0.16605385530442304\n",
      "confusion  matrix\n",
      "[[28960 15423]\n",
      " [ 2608  3071]]\n",
      "              precision    recall  f1-score   support\n",
      "\n",
      "       not 1       0.92      0.65      0.76     44383\n",
      "           1       0.17      0.54      0.25      5679\n",
      "\n",
      "    accuracy                           0.64     50062\n",
      "   macro avg       0.54      0.60      0.51     50062\n",
      "weighted avg       0.83      0.64      0.70     50062\n",
      "\n"
     ]
    }
   ],
   "source": [
    "X_test_selected = select.transform(X_test)\n",
    "\n",
    "lr = LogisticRegression();\n",
    "train_and_test(lr, X_train_selected, X_test_selected, y_train_res, y_test,False) #Noooooo changeeee -_-"
   ]
  },
  {
   "cell_type": "markdown",
   "metadata": {},
   "source": [
    "#### Model-based Feature Selection"
   ]
  },
  {
   "cell_type": "code",
   "execution_count": 168,
   "metadata": {},
   "outputs": [],
   "source": [
    "from sklearn.feature_selection import SelectFromModel\n",
    "select = SelectFromModel(\n",
    "    RandomForestClassifier(n_estimators=100, random_state=42),\n",
    "    threshold=\"median\")"
   ]
  },
  {
   "cell_type": "code",
   "execution_count": 169,
   "metadata": {},
   "outputs": [
    {
     "name": "stdout",
     "output_type": "stream",
     "text": [
      "X_train.shape: (88768, 45)\n",
      "X_train_l1.shape: (88768, 23)\n"
     ]
    }
   ],
   "source": [
    "select.fit(X_train_res, y_train_res)\n",
    "X_train_l1 = select.transform(X_train_res)\n",
    "print(\"X_train.shape: {}\".format(X_train_res.shape))\n",
    "print(\"X_train_l1.shape: {}\".format(X_train_l1.shape))"
   ]
  },
  {
   "cell_type": "code",
   "execution_count": 170,
   "metadata": {},
   "outputs": [
    {
     "name": "stdout",
     "output_type": "stream",
     "text": [
      "accuracy train = 0.6026383381398702\n",
      "accuracy test = 0.6394470856138389\n",
      "\n",
      "recall   : 0.5449903151963373\n",
      "precision: 0.1667474812779484\n",
      "confusion  matrix\n",
      "[[28917 15466]\n",
      " [ 2584  3095]]\n",
      "              precision    recall  f1-score   support\n",
      "\n",
      "       not 1       0.92      0.65      0.76     44383\n",
      "           1       0.17      0.54      0.26      5679\n",
      "\n",
      "    accuracy                           0.64     50062\n",
      "   macro avg       0.54      0.60      0.51     50062\n",
      "weighted avg       0.83      0.64      0.70     50062\n",
      "\n"
     ]
    }
   ],
   "source": [
    "X_test_l1 = select.transform(X_test)\n",
    "train_and_test(lr, X_train_l1, X_test_l1, y_train_res, y_test,False) #Noooooo changeeee -_- ......."
   ]
  }
 ],
 "metadata": {
  "kernelspec": {
   "display_name": "Python 3",
   "language": "python",
   "name": "python3"
  },
  "language_info": {
   "codemirror_mode": {
    "name": "ipython",
    "version": 3
   },
   "file_extension": ".py",
   "mimetype": "text/x-python",
   "name": "python",
   "nbconvert_exporter": "python",
   "pygments_lexer": "ipython3",
   "version": "3.7.0"
  }
 },
 "nbformat": 4,
 "nbformat_minor": 2
}
